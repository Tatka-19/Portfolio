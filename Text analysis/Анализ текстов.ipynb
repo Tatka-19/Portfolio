{
 "cells": [
  {
   "cell_type": "markdown",
   "metadata": {
    "toc": true
   },
   "source": [
    "<h1>Содержание<span class=\"tocSkip\"></span></h1>\n",
    "<div class=\"toc\"><ul class=\"toc-item\"><li><ul class=\"toc-item\"><li><span><a href=\"#Описание-проекта.\" data-toc-modified-id=\"Описание-проекта.-0.1\"><span class=\"toc-item-num\">0.1&nbsp;&nbsp;</span>Описание проекта.</a></span></li><li><span><a href=\"#Цель-проекта:\" data-toc-modified-id=\"Цель-проекта:-0.2\"><span class=\"toc-item-num\">0.2&nbsp;&nbsp;</span>Цель проекта:</a></span><ul class=\"toc-item\"><li><span><a href=\"#Ход-проекта.\" data-toc-modified-id=\"Ход-проекта.-0.2.1\"><span class=\"toc-item-num\">0.2.1&nbsp;&nbsp;</span>Ход проекта.</a></span></li></ul></li></ul></li><li><span><a href=\"#Загрузка-и-подготовка-данных.\" data-toc-modified-id=\"Загрузка-и-подготовка-данных.-1\"><span class=\"toc-item-num\">1&nbsp;&nbsp;</span>Загрузка и подготовка данных.</a></span><ul class=\"toc-item\"><li><span><a href=\"#Загрузка.\" data-toc-modified-id=\"Загрузка.-1.1\"><span class=\"toc-item-num\">1.1&nbsp;&nbsp;</span>Загрузка.</a></span></li><li><span><a href=\"#Подготовка-данных.\" data-toc-modified-id=\"Подготовка-данных.-1.2\"><span class=\"toc-item-num\">1.2&nbsp;&nbsp;</span>Подготовка данных.</a></span><ul class=\"toc-item\"><li><span><a href=\"#Проверка-данных-на-наличие-пропусков.\" data-toc-modified-id=\"Проверка-данных-на-наличие-пропусков.-1.2.1\"><span class=\"toc-item-num\">1.2.1&nbsp;&nbsp;</span>Проверка данных на наличие пропусков.</a></span></li><li><span><a href=\"#Обработка-дубликатов.\" data-toc-modified-id=\"Обработка-дубликатов.-1.2.2\"><span class=\"toc-item-num\">1.2.2&nbsp;&nbsp;</span>Обработка дубликатов.</a></span></li><li><span><a href=\"#Баланс-классов.\" data-toc-modified-id=\"Баланс-классов.-1.2.3\"><span class=\"toc-item-num\">1.2.3&nbsp;&nbsp;</span>Баланс классов.</a></span></li><li><span><a href=\"#Очищение-текста-от-лишних-символов.\" data-toc-modified-id=\"Очищение-текста-от-лишних-символов.-1.2.4\"><span class=\"toc-item-num\">1.2.4&nbsp;&nbsp;</span>Очищение текста от лишних символов.</a></span></li><li><span><a href=\"#РОS-тэгирование-слов.\" data-toc-modified-id=\"РОS-тэгирование-слов.-1.2.5\"><span class=\"toc-item-num\">1.2.5&nbsp;&nbsp;</span>РОS-тэгирование слов.</a></span></li><li><span><a href=\"#Лемматизация-слов.\" data-toc-modified-id=\"Лемматизация-слов.-1.2.6\"><span class=\"toc-item-num\">1.2.6&nbsp;&nbsp;</span>Лемматизация слов.</a></span></li><li><span><a href=\"#Разделение-данных-на-обучающую,-валидационную-и-тестовую-выборки.\" data-toc-modified-id=\"Разделение-данных-на-обучающую,-валидационную-и-тестовую-выборки.-1.2.7\"><span class=\"toc-item-num\">1.2.7&nbsp;&nbsp;</span>Разделение данных на обучающую, валидационную и тестовую выборки.</a></span></li><li><span><a href=\"#Векторизация-данных.\" data-toc-modified-id=\"Векторизация-данных.-1.2.8\"><span class=\"toc-item-num\">1.2.8&nbsp;&nbsp;</span>Векторизация данных.</a></span></li></ul></li></ul></li><li><span><a href=\"#Обучение\" data-toc-modified-id=\"Обучение-2\"><span class=\"toc-item-num\">2&nbsp;&nbsp;</span>Обучение</a></span><ul class=\"toc-item\"><li><span><a href=\"#Создание-и-оценка-модели-&quot;Логистическая-регрессия&quot;.\" data-toc-modified-id=\"Создание-и-оценка-модели-&quot;Логистическая-регрессия&quot;.-2.1\"><span class=\"toc-item-num\">2.1&nbsp;&nbsp;</span>Создание и оценка модели \"Логистическая регрессия\".</a></span></li><li><span><a href=\"#Модель-&quot;Дерево-решений&quot;.\" data-toc-modified-id=\"Модель-&quot;Дерево-решений&quot;.-2.2\"><span class=\"toc-item-num\">2.2&nbsp;&nbsp;</span>Модель \"Дерево решений\".</a></span></li><li><span><a href=\"#Модель-&quot;Случайный-лес&quot;.\" data-toc-modified-id=\"Модель-&quot;Случайный-лес&quot;.-2.3\"><span class=\"toc-item-num\">2.3&nbsp;&nbsp;</span>Модель \"Случайный лес\".</a></span></li><li><span><a href=\"#Сравненительная-оценка-моделей.\" data-toc-modified-id=\"Сравненительная-оценка-моделей.-2.4\"><span class=\"toc-item-num\">2.4&nbsp;&nbsp;</span>Сравненительная оценка моделей.</a></span></li><li><span><a href=\"#Оценка-лучшей-модели-на-тестовой-выборке.\" data-toc-modified-id=\"Оценка-лучшей-модели-на-тестовой-выборке.-2.5\"><span class=\"toc-item-num\">2.5&nbsp;&nbsp;</span>Оценка лучшей модели на тестовой выборке.</a></span></li></ul></li><li><span><a href=\"#Выводы\" data-toc-modified-id=\"Выводы-3\"><span class=\"toc-item-num\">3&nbsp;&nbsp;</span>Выводы</a></span><ul class=\"toc-item\"><li><span><a href=\"#Предобработка-и-подготовка-данных.\" data-toc-modified-id=\"Предобработка-и-подготовка-данных.-3.1\"><span class=\"toc-item-num\">3.1&nbsp;&nbsp;</span><strong>Предобработка и подготовка данных.</strong></a></span><ul class=\"toc-item\"><li><ul class=\"toc-item\"><li><span><a href=\"#В-ходе-предобработки-и-подготовки-данных-выполнены:\" data-toc-modified-id=\"В-ходе-предобработки-и-подготовки-данных-выполнены:-3.1.0.1\"><span class=\"toc-item-num\">3.1.0.1&nbsp;&nbsp;</span><em>В ходе предобработки и подготовки данных выполнены:</em></a></span></li></ul></li></ul></li><li><span><a href=\"#В-результате-исследования-разных-типов-моделей-и-проверки-их-качества-на-валидационной-выборке,-получены-следующие-выводы:\" data-toc-modified-id=\"В-результате-исследования-разных-типов-моделей-и-проверки-их-качества-на-валидационной-выборке,-получены-следующие-выводы:-3.2\"><span class=\"toc-item-num\">3.2&nbsp;&nbsp;</span><strong>В результате исследования разных типов моделей и проверки их качества на валидационной выборке, получены следующие выводы:</strong></a></span></li><li><span><a href=\"#Лучшая-модель-проверена-на-тестовой-выборке\" data-toc-modified-id=\"Лучшая-модель-проверена-на-тестовой-выборке-3.3\"><span class=\"toc-item-num\">3.3&nbsp;&nbsp;</span><strong>Лучшая модель проверена на тестовой выборке</strong></a></span></li><li><span><a href=\"#Таким-образом,-лучшей-следует-считать-модель-Логистической-регрессии\" data-toc-modified-id=\"Таким-образом,-лучшей-следует-считать-модель-Логистической-регрессии-3.4\"><span class=\"toc-item-num\">3.4&nbsp;&nbsp;</span><strong>Таким образом, лучшей следует считать модель Логистической регрессии"
   ]
  },
  {
   "cell_type": "markdown",
   "metadata": {},
   "source": [
    "# Проект для «Викишоп»"
   ]
  },
  {
   "cell_type": "markdown",
   "metadata": {},
   "source": [
    "### Описание проекта.\n",
    "\n",
    "Интернет-магазин «Викишоп» запускает новый сервис. Теперь пользователи могут редактировать и дополнять описания товаров, как в вики-сообществах. То есть клиенты предлагают свои правки и комментируют изменения других. Магазину нужен инструмент, который будет искать токсичные комментарии и отправлять их на модерацию. \n",
    "\n",
    "Обучите модель классифицировать комментарии на позитивные и негативные. В вашем распоряжении набор данных с разметкой о токсичности правок.\n",
    "\n",
    "Постройте модель со значением метрики качества *F1* не меньше 0.75. \n",
    "\n",
    "### Цель проекта: \n",
    "\n",
    "1. Построить модель со значением метрики качества F1 не менее 0.75. \n",
    "\n",
    "#### Ход проекта.\n",
    "\n",
    "Набор данных с разметкой о токсичности правок я получу из файла '/datasets/toxic_comments.csv'. О качестве данных ничего не известно. Поэтому перед тем, как приступать к целям проекта, понадобится обзор данных. Я проверю данные на наличие ошибок и оценю их влияние на исследование. Затем, на этапе предобработки я поищу возможность исправить все ошибки данных, которые не приведут к искажению конечного результата. Далее, обучу и проверю разные модели, оценю их качество, после чего выберу лучшую модель. Таким образом, моё исследование пройдёт в 3 этапа:\n",
    "\n",
    "1. Загрузка и подготовка данных.\n",
    "2. Обучение разных моделей. \n",
    "3. Выводы."
   ]
  },
  {
   "cell_type": "markdown",
   "metadata": {},
   "source": [
    "## Загрузка и подготовка данных.\n",
    "\n",
    "### Загрузка данных."
   ]
  },
  {
   "cell_type": "code",
   "execution_count": 1,
   "metadata": {},
   "outputs": [],
   "source": [
    "import numpy as np\n",
    "import pandas as pd \n",
    "\n",
    "import re \n",
    "\n",
    "import nltk \n",
    "\n",
    "from nltk.corpus import stopwords as nltk_stopwords\n",
    "from nltk.corpus import wordnet\n",
    "from nltk.stem import WordNetLemmatizer\n",
    "\n",
    "import matplotlib.pyplot as plt\n",
    "import seaborn\n",
    "\n",
    "from sklearn.feature_extraction.text import TfidfVectorizer \n",
    "from sklearn.model_selection import train_test_split\n",
    "\n",
    "from sklearn.linear_model import LogisticRegression\n",
    "from sklearn.tree import DecisionTreeClassifier\n",
    "from sklearn.ensemble import RandomForestClassifier\n",
    "\n",
    "from sklearn.metrics import f1_score\n",
    "\n",
    "from sklearn.utils import shuffle"
   ]
  },
  {
   "cell_type": "code",
   "execution_count": 2,
   "metadata": {},
   "outputs": [
    {
     "data": {
      "text/html": [
       "<div>\n",
       "<style scoped>\n",
       "    .dataframe tbody tr th:only-of-type {\n",
       "        vertical-align: middle;\n",
       "    }\n",
       "\n",
       "    .dataframe tbody tr th {\n",
       "        vertical-align: top;\n",
       "    }\n",
       "\n",
       "    .dataframe thead th {\n",
       "        text-align: right;\n",
       "    }\n",
       "</style>\n",
       "<table border=\"1\" class=\"dataframe\">\n",
       "  <thead>\n",
       "    <tr style=\"text-align: right;\">\n",
       "      <th></th>\n",
       "      <th>text</th>\n",
       "      <th>toxic</th>\n",
       "    </tr>\n",
       "  </thead>\n",
       "  <tbody>\n",
       "    <tr>\n",
       "      <th>0</th>\n",
       "      <td>Explanation\\nWhy the edits made under my usern...</td>\n",
       "      <td>0</td>\n",
       "    </tr>\n",
       "    <tr>\n",
       "      <th>1</th>\n",
       "      <td>D'aww! He matches this background colour I'm s...</td>\n",
       "      <td>0</td>\n",
       "    </tr>\n",
       "    <tr>\n",
       "      <th>2</th>\n",
       "      <td>Hey man, I'm really not trying to edit war. It...</td>\n",
       "      <td>0</td>\n",
       "    </tr>\n",
       "    <tr>\n",
       "      <th>3</th>\n",
       "      <td>\"\\nMore\\nI can't make any real suggestions on ...</td>\n",
       "      <td>0</td>\n",
       "    </tr>\n",
       "    <tr>\n",
       "      <th>4</th>\n",
       "      <td>You, sir, are my hero. Any chance you remember...</td>\n",
       "      <td>0</td>\n",
       "    </tr>\n",
       "  </tbody>\n",
       "</table>\n",
       "</div>"
      ],
      "text/plain": [
       "                                                text  toxic\n",
       "0  Explanation\\nWhy the edits made under my usern...      0\n",
       "1  D'aww! He matches this background colour I'm s...      0\n",
       "2  Hey man, I'm really not trying to edit war. It...      0\n",
       "3  \"\\nMore\\nI can't make any real suggestions on ...      0\n",
       "4  You, sir, are my hero. Any chance you remember...      0"
      ]
     },
     "execution_count": 2,
     "metadata": {},
     "output_type": "execute_result"
    }
   ],
   "source": [
    "try:\n",
    "    data = pd.read_csv('~/Downloads/toxic_comments.csv', index_col=[0])\n",
    "except:\n",
    "    data = pd.read_csv('/datasets/toxic_comments.csv', index_col=[0])\n",
    "data.head()"
   ]
  },
  {
   "cell_type": "code",
   "execution_count": 3,
   "metadata": {},
   "outputs": [
    {
     "name": "stdout",
     "output_type": "stream",
     "text": [
      "<class 'pandas.core.frame.DataFrame'>\n",
      "Int64Index: 159292 entries, 0 to 159450\n",
      "Data columns (total 2 columns):\n",
      " #   Column  Non-Null Count   Dtype \n",
      "---  ------  --------------   ----- \n",
      " 0   text    159292 non-null  object\n",
      " 1   toxic   159292 non-null  int64 \n",
      "dtypes: int64(1), object(1)\n",
      "memory usage: 3.6+ MB\n"
     ]
    }
   ],
   "source": [
    "data.info()"
   ]
  },
  {
   "cell_type": "markdown",
   "metadata": {},
   "source": [
    "Вывод: исследуемая таблица содержат данные типа 'int' и 'object'. Пропуски в данных таблицы отсутствуют. На этапе предобработки необходимо произвести проверку данных на дубликаты и устранить их при наличии, произвести лемматизацию и очищение текста от лишних символов, разделение данных на обучающую, валидационную и тестовую выборки и выполнить векторизацию. "
   ]
  },
  {
   "cell_type": "markdown",
   "metadata": {},
   "source": [
    "### Подготовка данных.\n",
    "\n",
    "#### Проверка данных на наличие пропусков."
   ]
  },
  {
   "cell_type": "code",
   "execution_count": 4,
   "metadata": {},
   "outputs": [
    {
     "data": {
      "text/plain": [
       "text     0\n",
       "toxic    0\n",
       "dtype: int64"
      ]
     },
     "execution_count": 4,
     "metadata": {},
     "output_type": "execute_result"
    }
   ],
   "source": [
    "data.isna().sum() "
   ]
  },
  {
   "cell_type": "markdown",
   "metadata": {},
   "source": [
    "#### Обработка дубликатов."
   ]
  },
  {
   "cell_type": "code",
   "execution_count": 5,
   "metadata": {},
   "outputs": [
    {
     "data": {
      "text/plain": [
       "0"
      ]
     },
     "execution_count": 5,
     "metadata": {},
     "output_type": "execute_result"
    }
   ],
   "source": [
    "data.duplicated().sum()"
   ]
  },
  {
   "cell_type": "markdown",
   "metadata": {},
   "source": [
    "#### Баланс классов."
   ]
  },
  {
   "cell_type": "code",
   "execution_count": 6,
   "metadata": {},
   "outputs": [
    {
     "name": "stdout",
     "output_type": "stream",
     "text": [
      "Количество 0: 143106\n",
      "Количество 1: 16186\n"
     ]
    }
   ],
   "source": [
    "zeros = data['toxic'].value_counts()[0]\n",
    "ones = data['toxic'].value_counts()[1]\n",
    "print('Количество 0:', zeros)\n",
    "print('Количество 1:', ones)"
   ]
  },
  {
   "cell_type": "code",
   "execution_count": 7,
   "metadata": {},
   "outputs": [
    {
     "data": {
      "image/png": "[encoded data removed]",
      "text/plain": [
       "<Figure size 720x360 with 1 Axes>"
      ]
     },
     "metadata": {
      "needs_background": "light"
     },
     "output_type": "display_data"
    }
   ],
   "source": [
    "plt.figure(figsize=(10, 5))\n",
    "seaborn.countplot(x='toxic', data=data)\n",
    "plt.show()"
   ]
  },
  {
   "cell_type": "markdown",
   "metadata": {},
   "source": [
    "#### Очищение текста от лишних символов. "
   ]
  },
  {
   "cell_type": "code",
   "execution_count": 8,
   "metadata": {},
   "outputs": [],
   "source": [
    "def clear_text(text):\n",
    "    text = text.lower()\n",
    "    pattern = re.sub(r'[^a-zA-Z]', ' ', text)\n",
    "    clear = pattern.split()\n",
    "    return \" \".join(clear)"
   ]
  },
  {
   "cell_type": "code",
   "execution_count": 9,
   "metadata": {},
   "outputs": [
    {
     "data": {
      "text/html": [
       "<div>\n",
       "<style scoped>\n",
       "    .dataframe tbody tr th:only-of-type {\n",
       "        vertical-align: middle;\n",
       "    }\n",
       "\n",
       "    .dataframe tbody tr th {\n",
       "        vertical-align: top;\n",
       "    }\n",
       "\n",
       "    .dataframe thead th {\n",
       "        text-align: right;\n",
       "    }\n",
       "</style>\n",
       "<table border=\"1\" class=\"dataframe\">\n",
       "  <thead>\n",
       "    <tr style=\"text-align: right;\">\n",
       "      <th></th>\n",
       "      <th>text</th>\n",
       "      <th>toxic</th>\n",
       "    </tr>\n",
       "  </thead>\n",
       "  <tbody>\n",
       "    <tr>\n",
       "      <th>0</th>\n",
       "      <td>explanation why the edits made under my userna...</td>\n",
       "      <td>0</td>\n",
       "    </tr>\n",
       "    <tr>\n",
       "      <th>1</th>\n",
       "      <td>d aww he matches this background colour i m se...</td>\n",
       "      <td>0</td>\n",
       "    </tr>\n",
       "    <tr>\n",
       "      <th>2</th>\n",
       "      <td>hey man i m really not trying to edit war it s...</td>\n",
       "      <td>0</td>\n",
       "    </tr>\n",
       "    <tr>\n",
       "      <th>3</th>\n",
       "      <td>more i can t make any real suggestions on impr...</td>\n",
       "      <td>0</td>\n",
       "    </tr>\n",
       "    <tr>\n",
       "      <th>4</th>\n",
       "      <td>you sir are my hero any chance you remember wh...</td>\n",
       "      <td>0</td>\n",
       "    </tr>\n",
       "  </tbody>\n",
       "</table>\n",
       "</div>"
      ],
      "text/plain": [
       "                                                text  toxic\n",
       "0  explanation why the edits made under my userna...      0\n",
       "1  d aww he matches this background colour i m se...      0\n",
       "2  hey man i m really not trying to edit war it s...      0\n",
       "3  more i can t make any real suggestions on impr...      0\n",
       "4  you sir are my hero any chance you remember wh...      0"
      ]
     },
     "execution_count": 9,
     "metadata": {},
     "output_type": "execute_result"
    }
   ],
   "source": [
    "data['text'] = data['text'].apply(clear_text)\n",
    "data.head()"
   ]
  },
  {
   "cell_type": "markdown",
   "metadata": {},
   "source": [
    "#### РОS-тэгирование слов. "
   ]
  },
  {
   "cell_type": "code",
   "execution_count": 10,
   "metadata": {},
   "outputs": [],
   "source": [
    "def get_wordnet_pos(word):\n",
    "    tag = nltk.pos_tag([word])[0][1][0].upper()\n",
    "    tag_dict = {\"J\": wordnet.ADJ,\n",
    "                \"N\": wordnet.NOUN,\n",
    "                \"V\": wordnet.VERB,\n",
    "                \"R\": wordnet.ADV}\n",
    "    return tag_dict.get(tag, wordnet.NOUN)"
   ]
  },
  {
   "cell_type": "markdown",
   "metadata": {},
   "source": [
    "#### Лемматизация слов. "
   ]
  },
  {
   "cell_type": "code",
   "execution_count": 11,
   "metadata": {},
   "outputs": [],
   "source": [
    "wnl = WordNetLemmatizer()\n",
    "\n",
    "def lemm_text(text):\n",
    "    text = [wnl.lemmatize(w, get_wordnet_pos(w)) for w in nltk.word_tokenize(text)]\n",
    "    return ' '.join(text)"
   ]
  },
  {
   "cell_type": "code",
   "execution_count": 12,
   "metadata": {},
   "outputs": [],
   "source": [
    "data['text'] = data['text'].apply(lemm_text) "
   ]
  },
  {
   "cell_type": "code",
   "execution_count": 13,
   "metadata": {},
   "outputs": [
    {
     "data": {
      "text/html": [
       "<div>\n",
       "<style scoped>\n",
       "    .dataframe tbody tr th:only-of-type {\n",
       "        vertical-align: middle;\n",
       "    }\n",
       "\n",
       "    .dataframe tbody tr th {\n",
       "        vertical-align: top;\n",
       "    }\n",
       "\n",
       "    .dataframe thead th {\n",
       "        text-align: right;\n",
       "    }\n",
       "</style>\n",
       "<table border=\"1\" class=\"dataframe\">\n",
       "  <thead>\n",
       "    <tr style=\"text-align: right;\">\n",
       "      <th></th>\n",
       "      <th>text</th>\n",
       "      <th>toxic</th>\n",
       "    </tr>\n",
       "  </thead>\n",
       "  <tbody>\n",
       "    <tr>\n",
       "      <th>0</th>\n",
       "      <td>explanation why the edits make under my userna...</td>\n",
       "      <td>0</td>\n",
       "    </tr>\n",
       "    <tr>\n",
       "      <th>1</th>\n",
       "      <td>d aww he match this background colour i m seem...</td>\n",
       "      <td>0</td>\n",
       "    </tr>\n",
       "    <tr>\n",
       "      <th>2</th>\n",
       "      <td>hey man i m really not try to edit war it s ju...</td>\n",
       "      <td>0</td>\n",
       "    </tr>\n",
       "    <tr>\n",
       "      <th>3</th>\n",
       "      <td>more i can t make any real suggestion on impro...</td>\n",
       "      <td>0</td>\n",
       "    </tr>\n",
       "    <tr>\n",
       "      <th>4</th>\n",
       "      <td>you sir be my hero any chance you remember wha...</td>\n",
       "      <td>0</td>\n",
       "    </tr>\n",
       "  </tbody>\n",
       "</table>\n",
       "</div>"
      ],
      "text/plain": [
       "                                                text  toxic\n",
       "0  explanation why the edits make under my userna...      0\n",
       "1  d aww he match this background colour i m seem...      0\n",
       "2  hey man i m really not try to edit war it s ju...      0\n",
       "3  more i can t make any real suggestion on impro...      0\n",
       "4  you sir be my hero any chance you remember wha...      0"
      ]
     },
     "execution_count": 13,
     "metadata": {},
     "output_type": "execute_result"
    }
   ],
   "source": [
    "data.head()"
   ]
  },
  {
   "cell_type": "markdown",
   "metadata": {},
   "source": [
    "#### Разделение данных на обучающую, валидационную и тестовую выборки."
   ]
  },
  {
   "cell_type": "code",
   "execution_count": 14,
   "metadata": {},
   "outputs": [],
   "source": [
    "target = data['toxic']\n",
    "features = data['text']\n",
    "\n",
    "features_train, features_valid, target_train, target_valid = train_test_split(features, target, test_size = 0.2, random_state = 12345)\n",
    "features_valid, features_test, target_valid, target_test = train_test_split(features_valid, target_valid, test_size = 0.5, random_state = 12345)"
   ]
  },
  {
   "cell_type": "code",
   "execution_count": 15,
   "metadata": {},
   "outputs": [
    {
     "data": {
      "text/plain": [
       "0"
      ]
     },
     "execution_count": 15,
     "metadata": {},
     "output_type": "execute_result"
    }
   ],
   "source": [
    "features.isna().sum().sum()"
   ]
  },
  {
   "cell_type": "markdown",
   "metadata": {},
   "source": [
    "#### Векторизация данных."
   ]
  },
  {
   "cell_type": "code",
   "execution_count": 16,
   "metadata": {},
   "outputs": [],
   "source": [
    "stopwords = nltk_stopwords.words('english')\n",
    "\n",
    "count_tf_idf = TfidfVectorizer(stop_words=stopwords) \n",
    "\n",
    "tf_idf_train = count_tf_idf.fit_transform(features_train)\n",
    "tf_idf_valid = count_tf_idf.transform(features_valid)\n",
    "tf_idf_test = count_tf_idf.transform(features_test)"
   ]
  },
  {
   "cell_type": "markdown",
   "metadata": {},
   "source": [
    "Вывод:  качество исходных данных среднее. Пропуски и дубликаты в данных отсутствуют, но имеется значительный дисбаланс классов: негативных комментариев практически в 9 раз больше, чем позитивных. \n",
    "\n",
    "   С целью подготовки данных к обучению моделей выполнено: очищение текста от лишних символов, РОS-тэгирование и лемматизация слов, данные разделены на обучающую, валидационную и тестовую выборки, произведена векторизация."
   ]
  },
  {
   "cell_type": "markdown",
   "metadata": {},
   "source": [
    "## Обучение"
   ]
  },
  {
   "cell_type": "markdown",
   "metadata": {},
   "source": [
    "### Создание и оценка модели \"Логистическая регрессия\"."
   ]
  },
  {
   "cell_type": "code",
   "execution_count": 63,
   "metadata": {},
   "outputs": [
    {
     "name": "stdout",
     "output_type": "stream",
     "text": [
      "F1 лучшей модели \"Логистическая регрессия\": 0.7662966125818389\n",
      "\"C\" лучшей модели: 10.0\n",
      "\"Penelty\" лучшей модели: l2\n"
     ]
    }
   ],
   "source": [
    "list_1 = [0.1, 1.0, 10.0]\n",
    "list_2 = ['l1', 'l2']\n",
    "\n",
    "best_score = 0\n",
    "best_C = 0\n",
    "best_penalty = 'l'\n",
    "\n",
    "for i in list_1:\n",
    "    for n in list_2:\n",
    "        model = LogisticRegression(C = i, penalty = n, solver='liblinear', class_weight='balanced')\n",
    "        model.fit(tf_idf_train, target_train)\n",
    "        predicted_valid = model.predict(tf_idf_valid)\n",
    "        F1_log = f1_score(target_valid, predicted_valid)\n",
    "        if F1_log>best_score:\n",
    "            best_score = F1_log\n",
    "            best_C = i\n",
    "            best_penalty = n\n",
    "            \n",
    "print('F1 лучшей модели \"Логистическая регрессия\":', best_score)\n",
    "print('\"C\" лучшей модели:', best_C)\n",
    "print('\"Penelty\" лучшей модели:', best_penalty)"
   ]
  },
  {
   "cell_type": "markdown",
   "metadata": {},
   "source": [
    "### Модель \"Дерево решений\"."
   ]
  },
  {
   "cell_type": "code",
   "execution_count": null,
   "metadata": {},
   "outputs": [],
   "source": [
    "model = DecisionTreeClassifier()\n",
    "model.fit(tf_idf_train, target_train)\n",
    "predicted_valid = model.predict(tf_idf_valid)\n",
    "\n",
    "F1_tree = f1_score(target_valid, predicted_valid)\n",
    "print('F1 модели \"Дерево решений\":', F1_tree)"
   ]
  },
  {
   "cell_type": "markdown",
   "metadata": {},
   "source": [
    "### Модель \"Случайный лес\"."
   ]
  },
  {
   "cell_type": "code",
   "execution_count": null,
   "metadata": {},
   "outputs": [],
   "source": [
    "model= RandomForestClassifier()\n",
    "model.fit(tf_idf_train, target_train)\n",
    "predicted_valid = model.predict(tf_idf_valid)\n",
    "F1 = f1_score(target_valid, predicted_valid)\n",
    "\n",
    "print('F1 модели \"Случайный лес\":', F1)"
   ]
  },
  {
   "cell_type": "markdown",
   "metadata": {},
   "source": [
    "### Сравненительная оценка моделей."
   ]
  },
  {
   "cell_type": "code",
   "execution_count": null,
   "metadata": {},
   "outputs": [],
   "source": [
    "data = [F1_log, F1_tree, F1]\n",
    "\n",
    "data_compare = pd.DataFrame(data, columns = ['Значение метрики F1'], \n",
    "                            index = ['Логистическая регрессия', 'Дерево решений', 'Случайный лес'])\n",
    "print(data_compare)"
   ]
  },
  {
   "cell_type": "markdown",
   "metadata": {},
   "source": [
    "### Оценка лучшей модели на тестовой выборке."
   ]
  },
  {
   "cell_type": "code",
   "execution_count": 39,
   "metadata": {},
   "outputs": [
    {
     "name": "stdout",
     "output_type": "stream",
     "text": [
      "F1 модели \"Логистическая регрессия\": 0.76\n"
     ]
    }
   ],
   "source": [
    "model = LogisticRegression(C = 10.0, penalty = 'l2', solver='liblinear', class_weight='balanced')\n",
    "model.fit(tf_idf_train, target_train)\n",
    "predicted_test = model.predict(tf_idf_test)\n",
    "F1_log = f1_score(target_test, predicted_test)\n",
    "print('F1 модели \"Логистическая регрессия\":', round(F1_log, 2))"
   ]
  },
  {
   "cell_type": "markdown",
   "metadata": {},
   "source": [
    "## Выводы\n",
    "\n",
    "### __Предобработка и подготовка данных.__\n",
    "\n",
    "##### _В ходе предобработки и подготовки данных выполнены:_ \n",
    "\n",
    "-очищение текста от лишних символов, \n",
    "\n",
    "-РОS-тэгирование и лемматизация слов, \n",
    "\n",
    "-данные разделены на обучающую, валидационную и тестовую выборки, \n",
    "\n",
    "-векторизация данных.\n",
    "\n",
    "### __В результате исследования разных типов моделей и проверки их качества на валидационной выборке, получены следующие выводы:__\n",
    "\n",
    "F1 модели \"Логистическая регрессия\": 0,77\n",
    "\n",
    "F1 модели \"Дерево решений\": 0,70\n",
    "\n",
    "F1 модели 'Случайный лес': 0,69\n",
    "\n",
    "### __Лучшая модель проверена на тестовой выборке__\n",
    "\n",
    "F1 модели \"Логистическая регрессия\": 0,76.\n",
    "\n",
    "### __Таким образом, лучшей следует считать модель Логистической регрессии__"
   ]
  }
 ],
 "metadata": {
  "ExecuteTimeLog": [
   {
    "duration": 409,
    "start_time": "2024-05-20T07:40:55.176Z"
   },
   {
    "duration": 99,
    "start_time": "2024-05-20T07:41:32.967Z"
   },
   {
    "duration": 11,
    "start_time": "2024-05-20T07:41:40.752Z"
   },
   {
    "duration": 11,
    "start_time": "2024-05-20T07:41:50.935Z"
   },
   {
    "duration": 11,
    "start_time": "2024-05-20T07:42:02.072Z"
   },
   {
    "duration": 50,
    "start_time": "2024-05-22T11:51:16.333Z"
   },
   {
    "duration": 439,
    "start_time": "2024-05-22T11:51:19.452Z"
   },
   {
    "duration": 3333,
    "start_time": "2024-05-22T11:51:21.781Z"
   },
   {
    "duration": 925,
    "start_time": "2024-05-22T11:51:32.261Z"
   },
   {
    "duration": 1151,
    "start_time": "2024-05-22T11:53:23.738Z"
   },
   {
    "duration": 30,
    "start_time": "2024-05-22T11:53:41.066Z"
   },
   {
    "duration": 43,
    "start_time": "2024-05-22T11:57:11.886Z"
   },
   {
    "duration": 226,
    "start_time": "2024-05-22T11:57:18.030Z"
   },
   {
    "duration": 1304,
    "start_time": "2024-05-24T07:50:13.833Z"
   },
   {
    "duration": 3539,
    "start_time": "2024-05-24T07:50:19.503Z"
   },
   {
    "duration": 31,
    "start_time": "2024-05-24T07:52:23.921Z"
   },
   {
    "duration": 102,
    "start_time": "2024-05-24T07:54:51.868Z"
   },
   {
    "duration": 8,
    "start_time": "2024-05-24T07:56:01.984Z"
   },
   {
    "duration": 58,
    "start_time": "2024-05-29T03:46:27.200Z"
   },
   {
    "duration": 1019,
    "start_time": "2024-05-29T03:46:35.307Z"
   },
   {
    "duration": 2596,
    "start_time": "2024-05-29T03:46:36.346Z"
   },
   {
    "duration": 32,
    "start_time": "2024-05-29T03:46:42.349Z"
   },
   {
    "duration": 212,
    "start_time": "2024-05-29T03:46:45.198Z"
   },
   {
    "duration": 2726,
    "start_time": "2024-05-29T03:46:47.894Z"
   },
   {
    "duration": 219,
    "start_time": "2024-05-29T03:47:16.596Z"
   },
   {
    "duration": 45,
    "start_time": "2024-05-29T03:47:31.193Z"
   },
   {
    "duration": 1280,
    "start_time": "2024-05-29T03:47:45.733Z"
   },
   {
    "duration": 2494,
    "start_time": "2024-05-29T03:47:47.016Z"
   },
   {
    "duration": 29,
    "start_time": "2024-05-29T03:47:49.511Z"
   },
   {
    "duration": 206,
    "start_time": "2024-05-29T03:47:49.541Z"
   },
   {
    "duration": 2871,
    "start_time": "2024-05-29T03:47:49.750Z"
   },
   {
    "duration": 69,
    "start_time": "2024-05-29T03:47:52.623Z"
   },
   {
    "duration": 2606,
    "start_time": "2024-05-29T03:47:52.693Z"
   },
   {
    "duration": 859,
    "start_time": "2024-05-29T03:47:55.301Z"
   },
   {
    "duration": 231,
    "start_time": "2024-05-29T03:47:56.161Z"
   },
   {
    "duration": 1367,
    "start_time": "2024-05-29T07:07:25.012Z"
   },
   {
    "duration": 2672,
    "start_time": "2024-05-29T07:07:28.740Z"
   },
   {
    "duration": 119,
    "start_time": "2024-05-29T07:09:48.237Z"
   },
   {
    "duration": 10,
    "start_time": "2024-05-29T07:09:56.018Z"
   },
   {
    "duration": 9,
    "start_time": "2024-05-29T07:10:03.734Z"
   },
   {
    "duration": 1293,
    "start_time": "2024-05-29T07:10:20.721Z"
   },
   {
    "duration": 1259,
    "start_time": "2024-05-29T07:10:22.016Z"
   },
   {
    "duration": 34,
    "start_time": "2024-05-29T07:10:23.277Z"
   },
   {
    "duration": 246,
    "start_time": "2024-05-29T07:10:23.314Z"
   },
   {
    "duration": 3820,
    "start_time": "2024-05-29T07:10:23.562Z"
   },
   {
    "duration": 74,
    "start_time": "2024-05-29T07:10:27.384Z"
   },
   {
    "duration": 3146,
    "start_time": "2024-05-29T07:10:27.460Z"
   },
   {
    "duration": 1002,
    "start_time": "2024-05-29T07:10:30.608Z"
   },
   {
    "duration": 287,
    "start_time": "2024-05-29T07:10:31.613Z"
   },
   {
    "duration": 5,
    "start_time": "2024-05-29T07:11:16.705Z"
   },
   {
    "duration": 324,
    "start_time": "2024-05-29T07:11:43.801Z"
   },
   {
    "duration": 270,
    "start_time": "2024-05-29T07:14:40.058Z"
   },
   {
    "duration": 6,
    "start_time": "2024-05-29T07:14:50.716Z"
   },
   {
    "duration": 274,
    "start_time": "2024-05-29T07:18:14.582Z"
   },
   {
    "duration": 167,
    "start_time": "2024-05-29T07:22:53.179Z"
   },
   {
    "duration": 12,
    "start_time": "2024-05-29T07:23:02.650Z"
   },
   {
    "duration": 25,
    "start_time": "2024-05-29T07:23:34.956Z"
   },
   {
    "duration": 103,
    "start_time": "2024-05-29T07:23:40.642Z"
   },
   {
    "duration": 275,
    "start_time": "2024-05-29T07:27:12.359Z"
   },
   {
    "duration": 31,
    "start_time": "2024-05-29T07:34:34.536Z"
   },
   {
    "duration": 887,
    "start_time": "2024-05-29T07:34:39.263Z"
   },
   {
    "duration": 3037,
    "start_time": "2024-05-29T07:35:32.233Z"
   },
   {
    "duration": 963,
    "start_time": "2024-05-29T07:35:40.936Z"
   },
   {
    "duration": 295,
    "start_time": "2024-05-29T07:35:44.337Z"
   },
   {
    "duration": 1489,
    "start_time": "2024-05-29T07:39:00.159Z"
   },
   {
    "duration": 1332,
    "start_time": "2024-05-29T07:39:01.651Z"
   },
   {
    "duration": 42,
    "start_time": "2024-05-29T07:39:02.986Z"
   },
   {
    "duration": 263,
    "start_time": "2024-05-29T07:39:03.030Z"
   },
   {
    "duration": 3719,
    "start_time": "2024-05-29T07:39:03.295Z"
   },
   {
    "duration": 76,
    "start_time": "2024-05-29T07:39:07.017Z"
   },
   {
    "duration": 3268,
    "start_time": "2024-05-29T07:39:07.095Z"
   },
   {
    "duration": 968,
    "start_time": "2024-05-29T07:39:10.366Z"
   },
   {
    "duration": 299,
    "start_time": "2024-05-29T07:39:11.336Z"
   },
   {
    "duration": 113,
    "start_time": "2024-05-29T07:39:11.637Z"
   },
   {
    "duration": 47,
    "start_time": "2024-05-29T10:09:58.184Z"
   },
   {
    "duration": 1171,
    "start_time": "2024-05-29T10:10:17.358Z"
   },
   {
    "duration": 3449,
    "start_time": "2024-05-29T10:10:18.531Z"
   },
   {
    "duration": 28,
    "start_time": "2024-05-29T10:10:21.982Z"
   },
   {
    "duration": 226,
    "start_time": "2024-05-29T10:10:22.012Z"
   },
   {
    "duration": 2711,
    "start_time": "2024-05-29T10:10:22.239Z"
   },
   {
    "duration": 69,
    "start_time": "2024-05-29T10:10:24.952Z"
   },
   {
    "duration": 2701,
    "start_time": "2024-05-29T10:10:25.023Z"
   },
   {
    "duration": 816,
    "start_time": "2024-05-29T10:10:27.725Z"
   },
   {
    "duration": 4,
    "start_time": "2024-05-29T10:10:28.542Z"
   },
   {
    "duration": 254,
    "start_time": "2024-05-29T10:10:28.549Z"
   },
   {
    "duration": 65,
    "start_time": "2024-05-29T10:10:28.804Z"
   },
   {
    "duration": 1127,
    "start_time": "2024-05-29T10:13:22.228Z"
   },
   {
    "duration": 937,
    "start_time": "2024-05-29T10:13:23.357Z"
   },
   {
    "duration": 19,
    "start_time": "2024-05-29T10:13:24.296Z"
   },
   {
    "duration": 214,
    "start_time": "2024-05-29T10:13:24.316Z"
   },
   {
    "duration": 2620,
    "start_time": "2024-05-29T10:13:24.531Z"
   },
   {
    "duration": 66,
    "start_time": "2024-05-29T10:13:27.153Z"
   },
   {
    "duration": 243,
    "start_time": "2024-05-29T10:13:27.221Z"
   },
   {
    "duration": 0,
    "start_time": "2024-05-29T10:13:27.467Z"
   },
   {
    "duration": 0,
    "start_time": "2024-05-29T10:13:27.468Z"
   },
   {
    "duration": 0,
    "start_time": "2024-05-29T10:13:27.469Z"
   },
   {
    "duration": 1,
    "start_time": "2024-05-29T10:13:27.470Z"
   },
   {
    "duration": 2139,
    "start_time": "2024-05-29T10:13:38.050Z"
   },
   {
    "duration": 8,
    "start_time": "2024-05-29T10:13:43.203Z"
   },
   {
    "duration": 233,
    "start_time": "2024-05-29T10:13:50.434Z"
   },
   {
    "duration": 10,
    "start_time": "2024-05-29T10:17:06.029Z"
   },
   {
    "duration": 791,
    "start_time": "2024-05-29T10:17:16.389Z"
   },
   {
    "duration": 1191,
    "start_time": "2024-05-29T10:18:05.103Z"
   },
   {
    "duration": 927,
    "start_time": "2024-05-29T10:18:06.295Z"
   },
   {
    "duration": 21,
    "start_time": "2024-05-29T10:18:07.223Z"
   },
   {
    "duration": 216,
    "start_time": "2024-05-29T10:18:07.245Z"
   },
   {
    "duration": 2608,
    "start_time": "2024-05-29T10:18:07.462Z"
   },
   {
    "duration": 68,
    "start_time": "2024-05-29T10:18:10.072Z"
   },
   {
    "duration": 2674,
    "start_time": "2024-05-29T10:18:10.141Z"
   },
   {
    "duration": 0,
    "start_time": "2024-05-29T10:18:12.817Z"
   },
   {
    "duration": 0,
    "start_time": "2024-05-29T10:18:12.818Z"
   },
   {
    "duration": 0,
    "start_time": "2024-05-29T10:18:12.819Z"
   },
   {
    "duration": 0,
    "start_time": "2024-05-29T10:18:12.821Z"
   },
   {
    "duration": 2089,
    "start_time": "2024-05-29T10:18:25.030Z"
   },
   {
    "duration": 721,
    "start_time": "2024-05-29T10:18:28.438Z"
   },
   {
    "duration": 214,
    "start_time": "2024-05-29T10:18:33.678Z"
   },
   {
    "duration": 1148,
    "start_time": "2024-05-29T10:18:54.131Z"
   },
   {
    "duration": 911,
    "start_time": "2024-05-29T10:18:55.281Z"
   },
   {
    "duration": 20,
    "start_time": "2024-05-29T10:18:56.193Z"
   },
   {
    "duration": 215,
    "start_time": "2024-05-29T10:18:56.215Z"
   },
   {
    "duration": 2626,
    "start_time": "2024-05-29T10:18:56.432Z"
   },
   {
    "duration": 66,
    "start_time": "2024-05-29T10:18:59.059Z"
   },
   {
    "duration": 2350,
    "start_time": "2024-05-29T10:18:59.126Z"
   },
   {
    "duration": 775,
    "start_time": "2024-05-29T10:19:01.477Z"
   },
   {
    "duration": 329,
    "start_time": "2024-05-29T10:19:02.253Z"
   },
   {
    "duration": 0,
    "start_time": "2024-05-29T10:19:02.584Z"
   },
   {
    "duration": 214,
    "start_time": "2024-05-29T10:19:27.088Z"
   },
   {
    "duration": 66,
    "start_time": "2024-05-29T10:19:30.575Z"
   },
   {
    "duration": 1126,
    "start_time": "2024-05-31T03:56:56.757Z"
   },
   {
    "duration": 98,
    "start_time": "2024-05-31T03:57:19.576Z"
   },
   {
    "duration": 8,
    "start_time": "2024-05-31T03:57:25.308Z"
   },
   {
    "duration": 1150,
    "start_time": "2024-05-31T03:57:35.512Z"
   },
   {
    "duration": 2354,
    "start_time": "2024-05-31T03:57:36.663Z"
   },
   {
    "duration": 22,
    "start_time": "2024-05-31T03:57:39.018Z"
   },
   {
    "duration": 247,
    "start_time": "2024-05-31T03:57:39.041Z"
   },
   {
    "duration": 1967,
    "start_time": "2024-05-31T03:57:39.290Z"
   },
   {
    "duration": 33201,
    "start_time": "2024-05-31T03:57:41.259Z"
   },
   {
    "duration": 732,
    "start_time": "2024-05-31T03:58:14.461Z"
   },
   {
    "duration": 50,
    "start_time": "2024-05-31T03:58:15.194Z"
   },
   {
    "duration": 1144,
    "start_time": "2024-05-31T03:58:15.245Z"
   },
   {
    "duration": 0,
    "start_time": "2024-05-31T03:58:16.390Z"
   },
   {
    "duration": 0,
    "start_time": "2024-05-31T03:58:16.391Z"
   },
   {
    "duration": 0,
    "start_time": "2024-05-31T03:58:16.392Z"
   },
   {
    "duration": 1643,
    "start_time": "2024-05-31T05:32:44.735Z"
   },
   {
    "duration": 3665,
    "start_time": "2024-05-31T05:32:46.381Z"
   },
   {
    "duration": 34,
    "start_time": "2024-05-31T05:32:50.048Z"
   },
   {
    "duration": 262,
    "start_time": "2024-05-31T05:32:50.085Z"
   },
   {
    "duration": 2909,
    "start_time": "2024-05-31T05:32:50.349Z"
   },
   {
    "duration": 44834,
    "start_time": "2024-05-31T05:32:53.260Z"
   },
   {
    "duration": 772,
    "start_time": "2024-05-31T05:33:38.096Z"
   },
   {
    "duration": 76,
    "start_time": "2024-05-31T05:33:38.869Z"
   },
   {
    "duration": 1199,
    "start_time": "2024-05-31T05:33:38.946Z"
   },
   {
    "duration": 0,
    "start_time": "2024-05-31T05:33:40.147Z"
   },
   {
    "duration": 0,
    "start_time": "2024-05-31T05:33:40.148Z"
   },
   {
    "duration": 0,
    "start_time": "2024-05-31T05:33:40.150Z"
   },
   {
    "duration": 26,
    "start_time": "2024-05-31T05:35:01.421Z"
   },
   {
    "duration": 17,
    "start_time": "2024-05-31T05:38:02.483Z"
   },
   {
    "duration": 13,
    "start_time": "2024-05-31T05:38:31.386Z"
   },
   {
    "duration": 15,
    "start_time": "2024-05-31T05:39:08.555Z"
   },
   {
    "duration": 13,
    "start_time": "2024-05-31T05:39:38.068Z"
   },
   {
    "duration": 8,
    "start_time": "2024-05-31T05:39:58.355Z"
   },
   {
    "duration": 918,
    "start_time": "2024-05-31T05:40:08.327Z"
   },
   {
    "duration": 11,
    "start_time": "2024-05-31T05:40:16.611Z"
   },
   {
    "duration": 49,
    "start_time": "2024-05-31T05:40:21.763Z"
   },
   {
    "duration": 23,
    "start_time": "2024-05-31T05:40:25.339Z"
   },
   {
    "duration": 21,
    "start_time": "2024-05-31T05:41:23.461Z"
   },
   {
    "duration": 22,
    "start_time": "2024-05-31T05:42:16.382Z"
   },
   {
    "duration": 1328,
    "start_time": "2024-05-31T05:43:24.566Z"
   },
   {
    "duration": 1156,
    "start_time": "2024-05-31T05:43:25.896Z"
   },
   {
    "duration": 41,
    "start_time": "2024-05-31T05:43:27.054Z"
   },
   {
    "duration": 238,
    "start_time": "2024-05-31T05:43:27.097Z"
   },
   {
    "duration": 2279,
    "start_time": "2024-05-31T05:43:27.337Z"
   },
   {
    "duration": 41170,
    "start_time": "2024-05-31T05:43:29.617Z"
   },
   {
    "duration": 741,
    "start_time": "2024-05-31T05:44:10.789Z"
   },
   {
    "duration": 29,
    "start_time": "2024-05-31T05:44:11.532Z"
   },
   {
    "duration": 271,
    "start_time": "2024-05-31T05:44:11.563Z"
   },
   {
    "duration": 0,
    "start_time": "2024-05-31T05:44:11.835Z"
   },
   {
    "duration": 0,
    "start_time": "2024-05-31T05:44:11.837Z"
   },
   {
    "duration": 0,
    "start_time": "2024-05-31T05:44:11.838Z"
   },
   {
    "duration": 22,
    "start_time": "2024-05-31T05:44:28.470Z"
   },
   {
    "duration": 48,
    "start_time": "2024-05-31T05:46:28.984Z"
   },
   {
    "duration": 1375,
    "start_time": "2024-05-31T05:46:36.101Z"
   },
   {
    "duration": 3411,
    "start_time": "2024-05-31T05:46:37.479Z"
   },
   {
    "duration": 33,
    "start_time": "2024-05-31T05:46:40.892Z"
   },
   {
    "duration": 240,
    "start_time": "2024-05-31T05:46:40.928Z"
   },
   {
    "duration": 2249,
    "start_time": "2024-05-31T05:46:41.170Z"
   },
   {
    "duration": 41694,
    "start_time": "2024-05-31T05:46:43.421Z"
   },
   {
    "duration": 714,
    "start_time": "2024-05-31T05:47:25.117Z"
   },
   {
    "duration": 30,
    "start_time": "2024-05-31T05:47:25.833Z"
   },
   {
    "duration": 44,
    "start_time": "2024-05-31T05:48:59.618Z"
   },
   {
    "duration": 1305,
    "start_time": "2024-05-31T05:49:14.104Z"
   },
   {
    "duration": 3460,
    "start_time": "2024-05-31T05:49:15.411Z"
   },
   {
    "duration": 34,
    "start_time": "2024-05-31T05:49:18.872Z"
   },
   {
    "duration": 240,
    "start_time": "2024-05-31T05:49:18.908Z"
   },
   {
    "duration": 2222,
    "start_time": "2024-05-31T05:49:19.150Z"
   },
   {
    "duration": 40967,
    "start_time": "2024-05-31T05:49:21.380Z"
   },
   {
    "duration": 753,
    "start_time": "2024-05-31T05:50:02.349Z"
   },
   {
    "duration": 6,
    "start_time": "2024-05-31T05:50:03.104Z"
   },
   {
    "duration": 55,
    "start_time": "2024-05-31T05:50:03.112Z"
   },
   {
    "duration": 294,
    "start_time": "2024-05-31T05:50:03.170Z"
   },
   {
    "duration": 0,
    "start_time": "2024-05-31T05:50:03.466Z"
   },
   {
    "duration": 0,
    "start_time": "2024-05-31T05:50:03.467Z"
   },
   {
    "duration": 0,
    "start_time": "2024-05-31T05:50:03.468Z"
   },
   {
    "duration": 12,
    "start_time": "2024-05-31T05:51:30.364Z"
   },
   {
    "duration": 25,
    "start_time": "2024-05-31T05:51:48.660Z"
   },
   {
    "duration": 14,
    "start_time": "2024-05-31T05:56:03.793Z"
   },
   {
    "duration": 1467,
    "start_time": "2024-05-31T06:04:21.867Z"
   },
   {
    "duration": 3490,
    "start_time": "2024-05-31T06:04:23.335Z"
   },
   {
    "duration": 34,
    "start_time": "2024-05-31T06:04:26.826Z"
   },
   {
    "duration": 241,
    "start_time": "2024-05-31T06:04:26.862Z"
   },
   {
    "duration": 2365,
    "start_time": "2024-05-31T06:04:27.105Z"
   },
   {
    "duration": 44094,
    "start_time": "2024-05-31T06:04:29.479Z"
   },
   {
    "duration": 62,
    "start_time": "2024-05-31T06:05:39.865Z"
   },
   {
    "duration": 1411,
    "start_time": "2024-06-02T13:18:00.497Z"
   },
   {
    "duration": 2636,
    "start_time": "2024-06-02T13:18:01.910Z"
   },
   {
    "duration": 31,
    "start_time": "2024-06-02T13:18:04.548Z"
   },
   {
    "duration": 225,
    "start_time": "2024-06-02T13:18:04.581Z"
   },
   {
    "duration": 2284,
    "start_time": "2024-06-02T13:18:04.808Z"
   },
   {
    "duration": 41513,
    "start_time": "2024-06-02T13:18:07.093Z"
   },
   {
    "duration": 703,
    "start_time": "2024-06-02T13:18:48.608Z"
   },
   {
    "duration": 18,
    "start_time": "2024-06-02T13:18:49.312Z"
   },
   {
    "duration": 3000,
    "start_time": "2024-06-02T13:18:49.331Z"
   },
   {
    "duration": 793,
    "start_time": "2024-06-02T13:18:52.334Z"
   },
   {
    "duration": 0,
    "start_time": "2024-06-02T13:18:53.129Z"
   },
   {
    "duration": 0,
    "start_time": "2024-06-02T13:18:53.131Z"
   },
   {
    "duration": 1006,
    "start_time": "2024-06-02T13:21:14.716Z"
   },
   {
    "duration": 323,
    "start_time": "2024-06-02T13:58:23.874Z"
   },
   {
    "duration": 796,
    "start_time": "2024-06-02T14:01:54.964Z"
   },
   {
    "duration": 27,
    "start_time": "2024-06-02T14:02:03.250Z"
   },
   {
    "duration": 24,
    "start_time": "2024-06-02T14:02:05.922Z"
   },
   {
    "duration": 11,
    "start_time": "2024-06-02T14:03:09.441Z"
   },
   {
    "duration": 4,
    "start_time": "2024-06-02T14:26:45.208Z"
   },
   {
    "duration": 1325,
    "start_time": "2024-06-02T14:26:53.959Z"
   },
   {
    "duration": 1108,
    "start_time": "2024-06-02T14:26:55.286Z"
   },
   {
    "duration": 30,
    "start_time": "2024-06-02T14:26:56.395Z"
   },
   {
    "duration": 226,
    "start_time": "2024-06-02T14:26:56.427Z"
   },
   {
    "duration": 2212,
    "start_time": "2024-06-02T14:26:56.656Z"
   },
   {
    "duration": 41152,
    "start_time": "2024-06-02T14:26:58.870Z"
   },
   {
    "duration": 673,
    "start_time": "2024-06-02T14:27:40.024Z"
   },
   {
    "duration": 28,
    "start_time": "2024-06-02T14:27:40.698Z"
   },
   {
    "duration": 331,
    "start_time": "2024-06-02T14:27:40.728Z"
   },
   {
    "duration": 0,
    "start_time": "2024-06-02T14:27:41.061Z"
   },
   {
    "duration": 0,
    "start_time": "2024-06-02T14:27:41.062Z"
   },
   {
    "duration": 0,
    "start_time": "2024-06-02T14:27:41.063Z"
   },
   {
    "duration": 11,
    "start_time": "2024-06-02T14:30:05.267Z"
   },
   {
    "duration": 583,
    "start_time": "2024-06-02T14:30:54.950Z"
   },
   {
    "duration": 1711,
    "start_time": "2024-06-02T14:31:05.153Z"
   },
   {
    "duration": 1045,
    "start_time": "2024-06-02T14:31:06.865Z"
   },
   {
    "duration": 39,
    "start_time": "2024-06-02T14:31:07.912Z"
   },
   {
    "duration": 244,
    "start_time": "2024-06-02T14:31:07.953Z"
   },
   {
    "duration": 2153,
    "start_time": "2024-06-02T14:31:08.200Z"
   },
   {
    "duration": 41843,
    "start_time": "2024-06-02T14:31:10.354Z"
   },
   {
    "duration": 725,
    "start_time": "2024-06-02T14:31:52.199Z"
   },
   {
    "duration": 29,
    "start_time": "2024-06-02T14:31:52.925Z"
   },
   {
    "duration": 365,
    "start_time": "2024-06-02T14:31:52.956Z"
   },
   {
    "duration": 0,
    "start_time": "2024-06-02T14:31:53.323Z"
   },
   {
    "duration": 0,
    "start_time": "2024-06-02T14:31:53.324Z"
   },
   {
    "duration": 0,
    "start_time": "2024-06-02T14:31:53.325Z"
   },
   {
    "duration": 24,
    "start_time": "2024-06-02T15:03:09.731Z"
   },
   {
    "duration": 1657,
    "start_time": "2024-06-02T15:11:37.336Z"
   },
   {
    "duration": 1097,
    "start_time": "2024-06-02T15:11:38.994Z"
   },
   {
    "duration": 31,
    "start_time": "2024-06-02T15:11:40.092Z"
   },
   {
    "duration": 236,
    "start_time": "2024-06-02T15:11:40.124Z"
   },
   {
    "duration": 2316,
    "start_time": "2024-06-02T15:11:40.362Z"
   },
   {
    "duration": 41443,
    "start_time": "2024-06-02T15:11:42.682Z"
   },
   {
    "duration": 708,
    "start_time": "2024-06-02T15:12:24.127Z"
   },
   {
    "duration": 31,
    "start_time": "2024-06-02T15:12:24.837Z"
   },
   {
    "duration": 353,
    "start_time": "2024-06-02T15:12:24.869Z"
   },
   {
    "duration": 0,
    "start_time": "2024-06-02T15:12:25.224Z"
   },
   {
    "duration": 0,
    "start_time": "2024-06-02T15:12:25.225Z"
   },
   {
    "duration": 0,
    "start_time": "2024-06-02T15:12:25.226Z"
   },
   {
    "duration": 0,
    "start_time": "2024-06-02T15:12:25.227Z"
   },
   {
    "duration": 49,
    "start_time": "2024-06-02T15:14:09.552Z"
   },
   {
    "duration": 1709,
    "start_time": "2024-06-02T15:14:16.344Z"
   },
   {
    "duration": 2519,
    "start_time": "2024-06-02T15:14:18.055Z"
   },
   {
    "duration": 30,
    "start_time": "2024-06-02T15:14:20.575Z"
   },
   {
    "duration": 225,
    "start_time": "2024-06-02T15:14:20.606Z"
   },
   {
    "duration": 2183,
    "start_time": "2024-06-02T15:14:20.833Z"
   },
   {
    "duration": 42462,
    "start_time": "2024-06-02T15:14:23.018Z"
   },
   {
    "duration": 48,
    "start_time": "2024-06-02T15:15:52.374Z"
   },
   {
    "duration": 1653,
    "start_time": "2024-06-02T15:15:57.924Z"
   },
   {
    "duration": 2529,
    "start_time": "2024-06-02T15:15:59.579Z"
   },
   {
    "duration": 31,
    "start_time": "2024-06-02T15:16:02.109Z"
   },
   {
    "duration": 222,
    "start_time": "2024-06-02T15:16:02.142Z"
   },
   {
    "duration": 2175,
    "start_time": "2024-06-02T15:16:02.365Z"
   },
   {
    "duration": 42306,
    "start_time": "2024-06-02T15:16:04.542Z"
   },
   {
    "duration": 682,
    "start_time": "2024-06-02T15:16:46.849Z"
   },
   {
    "duration": 28,
    "start_time": "2024-06-02T15:16:47.532Z"
   },
   {
    "duration": 388,
    "start_time": "2024-06-02T15:16:47.562Z"
   },
   {
    "duration": 0,
    "start_time": "2024-06-02T15:16:47.952Z"
   },
   {
    "duration": 0,
    "start_time": "2024-06-02T15:16:47.954Z"
   },
   {
    "duration": 0,
    "start_time": "2024-06-02T15:16:47.955Z"
   },
   {
    "duration": 0,
    "start_time": "2024-06-02T15:16:47.957Z"
   },
   {
    "duration": 68,
    "start_time": "2024-06-02T15:22:24.771Z"
   },
   {
    "duration": 98,
    "start_time": "2024-06-02T15:22:28.462Z"
   },
   {
    "duration": 5812,
    "start_time": "2024-06-02T15:27:30.498Z"
   },
   {
    "duration": 1854,
    "start_time": "2024-06-02T15:28:08.254Z"
   },
   {
    "duration": 2651,
    "start_time": "2024-06-02T15:28:10.111Z"
   },
   {
    "duration": 32,
    "start_time": "2024-06-02T15:28:12.764Z"
   },
   {
    "duration": 256,
    "start_time": "2024-06-02T15:28:12.798Z"
   },
   {
    "duration": 2204,
    "start_time": "2024-06-02T15:28:13.057Z"
   },
   {
    "duration": 42279,
    "start_time": "2024-06-02T15:28:15.263Z"
   },
   {
    "duration": 711,
    "start_time": "2024-06-02T15:28:57.544Z"
   },
   {
    "duration": 72,
    "start_time": "2024-06-02T15:28:58.257Z"
   },
   {
    "duration": 7670,
    "start_time": "2024-06-02T15:28:58.330Z"
   },
   {
    "duration": 142,
    "start_time": "2024-06-02T15:29:06.002Z"
   },
   {
    "duration": 0,
    "start_time": "2024-06-02T15:29:06.145Z"
   },
   {
    "duration": 0,
    "start_time": "2024-06-02T15:29:06.147Z"
   },
   {
    "duration": 0,
    "start_time": "2024-06-02T15:29:06.148Z"
   },
   {
    "duration": 15,
    "start_time": "2024-06-02T15:29:39.594Z"
   },
   {
    "duration": 45580,
    "start_time": "2024-06-02T15:30:07.430Z"
   },
   {
    "duration": 1738,
    "start_time": "2024-06-02T15:49:29.360Z"
   },
   {
    "duration": 1120,
    "start_time": "2024-06-02T15:49:31.100Z"
   },
   {
    "duration": 32,
    "start_time": "2024-06-02T15:49:32.222Z"
   },
   {
    "duration": 246,
    "start_time": "2024-06-02T15:49:32.255Z"
   },
   {
    "duration": 2287,
    "start_time": "2024-06-02T15:49:32.503Z"
   },
   {
    "duration": 42167,
    "start_time": "2024-06-02T15:49:34.792Z"
   },
   {
    "duration": 724,
    "start_time": "2024-06-02T15:50:16.960Z"
   },
   {
    "duration": 65,
    "start_time": "2024-06-02T15:50:17.685Z"
   },
   {
    "duration": 7459,
    "start_time": "2024-06-02T15:50:17.752Z"
   },
   {
    "duration": 47794,
    "start_time": "2024-06-02T15:50:25.213Z"
   },
   {
    "duration": 1756,
    "start_time": "2024-06-02T15:51:54.282Z"
   },
   {
    "duration": 1104,
    "start_time": "2024-06-02T15:51:56.040Z"
   },
   {
    "duration": 42,
    "start_time": "2024-06-02T15:51:57.145Z"
   },
   {
    "duration": 228,
    "start_time": "2024-06-02T15:51:57.188Z"
   },
   {
    "duration": 2174,
    "start_time": "2024-06-02T15:51:57.418Z"
   },
   {
    "duration": 43475,
    "start_time": "2024-06-02T15:51:59.594Z"
   },
   {
    "duration": 724,
    "start_time": "2024-06-02T15:52:43.071Z"
   },
   {
    "duration": 69,
    "start_time": "2024-06-02T15:52:43.796Z"
   },
   {
    "duration": 7899,
    "start_time": "2024-06-02T15:52:43.867Z"
   },
   {
    "duration": 73119,
    "start_time": "2024-06-02T15:52:51.768Z"
   },
   {
    "duration": 1105491,
    "start_time": "2024-06-02T15:54:04.889Z"
   },
   {
    "duration": 1297,
    "start_time": "2024-06-03T08:02:34.514Z"
   },
   {
    "duration": 2691,
    "start_time": "2024-06-03T08:02:35.813Z"
   },
   {
    "duration": 32,
    "start_time": "2024-06-03T08:02:38.506Z"
   },
   {
    "duration": 42,
    "start_time": "2024-06-03T08:02:38.540Z"
   },
   {
    "duration": 229,
    "start_time": "2024-06-03T08:02:38.585Z"
   },
   {
    "duration": 3028,
    "start_time": "2024-06-03T08:02:38.816Z"
   },
   {
    "duration": 41903,
    "start_time": "2024-06-03T08:02:41.846Z"
   },
   {
    "duration": 773,
    "start_time": "2024-06-03T08:03:23.751Z"
   },
   {
    "duration": 69,
    "start_time": "2024-06-03T08:03:24.525Z"
   },
   {
    "duration": 7306,
    "start_time": "2024-06-03T08:03:24.596Z"
   },
   {
    "duration": 49791,
    "start_time": "2024-06-03T08:03:31.904Z"
   },
   {
    "duration": 710509,
    "start_time": "2024-06-03T08:04:21.783Z"
   },
   {
    "duration": 48950,
    "start_time": "2024-06-03T08:16:12.294Z"
   },
   {
    "duration": 1352,
    "start_time": "2024-06-03T08:21:00.922Z"
   },
   {
    "duration": 1240,
    "start_time": "2024-06-03T08:21:02.276Z"
   },
   {
    "duration": 32,
    "start_time": "2024-06-03T08:21:03.518Z"
   },
   {
    "duration": 47,
    "start_time": "2024-06-03T08:21:03.552Z"
   },
   {
    "duration": 241,
    "start_time": "2024-06-03T08:21:03.601Z"
   },
   {
    "duration": 2709,
    "start_time": "2024-06-03T08:21:03.844Z"
   },
   {
    "duration": 43716,
    "start_time": "2024-06-03T08:21:06.555Z"
   },
   {
    "duration": 791,
    "start_time": "2024-06-03T08:21:50.273Z"
   },
   {
    "duration": 66,
    "start_time": "2024-06-03T08:21:51.065Z"
   },
   {
    "duration": 7619,
    "start_time": "2024-06-03T08:21:51.133Z"
   },
   {
    "duration": 50397,
    "start_time": "2024-06-03T08:21:58.754Z"
   },
   {
    "duration": 0,
    "start_time": "2024-06-03T08:22:49.153Z"
   },
   {
    "duration": 10,
    "start_time": "2024-06-03T08:25:55.000Z"
   },
   {
    "duration": 4,
    "start_time": "2024-06-03T08:25:58.643Z"
   },
   {
    "duration": 5,
    "start_time": "2024-06-03T08:26:12.963Z"
   },
   {
    "duration": 4,
    "start_time": "2024-06-03T08:26:26.243Z"
   },
   {
    "duration": 4,
    "start_time": "2024-06-03T08:29:11.764Z"
   },
   {
    "duration": 4,
    "start_time": "2024-06-03T08:29:13.423Z"
   },
   {
    "duration": 54,
    "start_time": "2024-06-03T08:31:14.660Z"
   },
   {
    "duration": 4,
    "start_time": "2024-06-03T08:31:16.531Z"
   },
   {
    "duration": 4,
    "start_time": "2024-06-03T08:31:18.931Z"
   },
   {
    "duration": 1418,
    "start_time": "2024-06-03T08:31:29.059Z"
   },
   {
    "duration": 1205,
    "start_time": "2024-06-03T08:31:30.479Z"
   },
   {
    "duration": 36,
    "start_time": "2024-06-03T08:31:31.685Z"
   },
   {
    "duration": 69,
    "start_time": "2024-06-03T08:31:31.722Z"
   },
   {
    "duration": 277,
    "start_time": "2024-06-03T08:31:31.794Z"
   },
   {
    "duration": 2492,
    "start_time": "2024-06-03T08:31:32.073Z"
   },
   {
    "duration": 41965,
    "start_time": "2024-06-03T08:31:34.567Z"
   },
   {
    "duration": 731,
    "start_time": "2024-06-03T08:32:16.534Z"
   },
   {
    "duration": 92,
    "start_time": "2024-06-03T08:32:17.267Z"
   },
   {
    "duration": 4,
    "start_time": "2024-06-03T08:32:17.361Z"
   },
   {
    "duration": 10,
    "start_time": "2024-06-03T08:32:17.367Z"
   },
   {
    "duration": 8550,
    "start_time": "2024-06-03T08:32:17.378Z"
   },
   {
    "duration": 34068,
    "start_time": "2024-06-03T08:32:25.930Z"
   },
   {
    "duration": 0,
    "start_time": "2024-06-03T08:33:00.002Z"
   },
   {
    "duration": 10,
    "start_time": "2024-06-03T08:33:58.825Z"
   },
   {
    "duration": 5,
    "start_time": "2024-06-03T08:34:07.044Z"
   },
   {
    "duration": 4,
    "start_time": "2024-06-03T08:34:10.875Z"
   },
   {
    "duration": 37,
    "start_time": "2024-06-03T08:35:38.543Z"
   },
   {
    "duration": 5,
    "start_time": "2024-06-03T08:35:41.217Z"
   },
   {
    "duration": 5,
    "start_time": "2024-06-03T08:35:43.067Z"
   },
   {
    "duration": 12,
    "start_time": "2024-06-03T08:35:50.513Z"
   },
   {
    "duration": 1443,
    "start_time": "2024-06-03T08:36:03.732Z"
   },
   {
    "duration": 1218,
    "start_time": "2024-06-03T08:36:05.178Z"
   },
   {
    "duration": 32,
    "start_time": "2024-06-03T08:36:06.398Z"
   },
   {
    "duration": 28,
    "start_time": "2024-06-03T08:36:06.431Z"
   },
   {
    "duration": 254,
    "start_time": "2024-06-03T08:36:06.462Z"
   },
   {
    "duration": 2413,
    "start_time": "2024-06-03T08:36:06.718Z"
   },
   {
    "duration": 45204,
    "start_time": "2024-06-03T08:36:09.133Z"
   },
   {
    "duration": 824,
    "start_time": "2024-06-03T08:36:54.339Z"
   },
   {
    "duration": 51,
    "start_time": "2024-06-03T08:36:55.165Z"
   },
   {
    "duration": 4,
    "start_time": "2024-06-03T08:36:55.218Z"
   },
   {
    "duration": 99,
    "start_time": "2024-06-03T08:36:55.224Z"
   },
   {
    "duration": 2421,
    "start_time": "2024-06-03T08:36:55.325Z"
   },
   {
    "duration": 9062,
    "start_time": "2024-06-03T08:36:57.747Z"
   },
   {
    "duration": 0,
    "start_time": "2024-06-03T08:37:06.812Z"
   },
   {
    "duration": 43620,
    "start_time": "2024-06-03T08:37:57.999Z"
   },
   {
    "duration": 1349,
    "start_time": "2024-06-03T08:39:44.152Z"
   },
   {
    "duration": 1189,
    "start_time": "2024-06-03T08:39:45.504Z"
   },
   {
    "duration": 33,
    "start_time": "2024-06-03T08:39:46.695Z"
   },
   {
    "duration": 35,
    "start_time": "2024-06-03T08:39:46.730Z"
   },
   {
    "duration": 253,
    "start_time": "2024-06-03T08:39:46.768Z"
   },
   {
    "duration": 2394,
    "start_time": "2024-06-03T08:39:47.023Z"
   },
   {
    "duration": 42044,
    "start_time": "2024-06-03T08:39:49.419Z"
   },
   {
    "duration": 863,
    "start_time": "2024-06-03T08:40:31.465Z"
   },
   {
    "duration": 69,
    "start_time": "2024-06-03T08:40:32.330Z"
   },
   {
    "duration": 5,
    "start_time": "2024-06-03T08:40:32.401Z"
   },
   {
    "duration": 7,
    "start_time": "2024-06-03T08:40:32.409Z"
   },
   {
    "duration": 7794,
    "start_time": "2024-06-03T08:40:32.419Z"
   },
   {
    "duration": 70825,
    "start_time": "2024-06-03T08:40:40.215Z"
   },
   {
    "duration": 0,
    "start_time": "2024-06-03T08:41:51.042Z"
   },
   {
    "duration": 5,
    "start_time": "2024-06-03T08:42:39.552Z"
   },
   {
    "duration": 4,
    "start_time": "2024-06-03T08:42:41.779Z"
   },
   {
    "duration": 1433,
    "start_time": "2024-06-03T08:43:05.169Z"
   },
   {
    "duration": 1206,
    "start_time": "2024-06-03T08:43:06.604Z"
   },
   {
    "duration": 32,
    "start_time": "2024-06-03T08:43:07.812Z"
   },
   {
    "duration": 41,
    "start_time": "2024-06-03T08:43:07.846Z"
   },
   {
    "duration": 250,
    "start_time": "2024-06-03T08:43:07.890Z"
   },
   {
    "duration": 2486,
    "start_time": "2024-06-03T08:43:08.142Z"
   },
   {
    "duration": 45654,
    "start_time": "2024-06-03T08:43:10.630Z"
   },
   {
    "duration": 755,
    "start_time": "2024-06-03T08:43:56.286Z"
   },
   {
    "duration": 51,
    "start_time": "2024-06-03T08:43:57.043Z"
   },
   {
    "duration": 5,
    "start_time": "2024-06-03T08:43:57.096Z"
   },
   {
    "duration": 7,
    "start_time": "2024-06-03T08:43:57.102Z"
   },
   {
    "duration": 8145,
    "start_time": "2024-06-03T08:43:57.111Z"
   },
   {
    "duration": 72526,
    "start_time": "2024-06-03T08:44:05.257Z"
   },
   {
    "duration": 1447,
    "start_time": "2024-06-03T08:51:20.950Z"
   },
   {
    "duration": 1147,
    "start_time": "2024-06-03T08:51:22.401Z"
   },
   {
    "duration": 35,
    "start_time": "2024-06-03T08:51:23.550Z"
   },
   {
    "duration": 31,
    "start_time": "2024-06-03T08:51:23.586Z"
   },
   {
    "duration": 253,
    "start_time": "2024-06-03T08:51:23.618Z"
   },
   {
    "duration": 2352,
    "start_time": "2024-06-03T08:51:23.873Z"
   },
   {
    "duration": 42047,
    "start_time": "2024-06-03T08:51:26.227Z"
   },
   {
    "duration": 741,
    "start_time": "2024-06-03T08:52:08.275Z"
   },
   {
    "duration": 57,
    "start_time": "2024-06-03T08:52:09.018Z"
   },
   {
    "duration": 3,
    "start_time": "2024-06-03T08:52:09.078Z"
   },
   {
    "duration": 34,
    "start_time": "2024-06-03T08:52:09.083Z"
   },
   {
    "duration": 7743,
    "start_time": "2024-06-03T08:52:09.118Z"
   },
   {
    "duration": 68726,
    "start_time": "2024-06-03T08:52:16.863Z"
   },
   {
    "duration": 1298161,
    "start_time": "2024-06-03T08:53:25.591Z"
   },
   {
    "duration": 146,
    "start_time": "2024-06-03T09:15:03.754Z"
   },
   {
    "duration": 14,
    "start_time": "2024-06-03T09:20:17.916Z"
   },
   {
    "duration": 275,
    "start_time": "2024-06-03T09:20:27.188Z"
   },
   {
    "duration": 35020,
    "start_time": "2024-06-03T09:21:33.103Z"
   },
   {
    "duration": 34902,
    "start_time": "2024-06-03T09:24:19.633Z"
   },
   {
    "duration": 7,
    "start_time": "2024-06-03T09:35:26.494Z"
   },
   {
    "duration": 4,
    "start_time": "2024-06-03T09:35:35.082Z"
   },
   {
    "duration": 19,
    "start_time": "2024-06-03T09:35:48.983Z"
   },
   {
    "duration": 18,
    "start_time": "2024-06-03T09:36:47.236Z"
   },
   {
    "duration": 6,
    "start_time": "2024-06-03T09:37:21.230Z"
   },
   {
    "duration": 13,
    "start_time": "2024-06-03T09:46:54.190Z"
   },
   {
    "duration": 76,
    "start_time": "2024-06-03T09:47:01.951Z"
   },
   {
    "duration": 16,
    "start_time": "2024-06-03T09:47:15.633Z"
   },
   {
    "duration": 17,
    "start_time": "2024-06-03T09:48:15.044Z"
   },
   {
    "duration": 4,
    "start_time": "2024-06-03T09:48:41.163Z"
   },
   {
    "duration": 3031,
    "start_time": "2024-06-03T09:50:09.498Z"
   },
   {
    "duration": 1407,
    "start_time": "2024-06-03T09:51:11.375Z"
   },
   {
    "duration": 318,
    "start_time": "2024-06-03T09:51:48.767Z"
   },
   {
    "duration": 10,
    "start_time": "2024-06-03T09:52:06.814Z"
   },
   {
    "duration": 1472,
    "start_time": "2024-06-03T09:52:13.574Z"
   },
   {
    "duration": 1521,
    "start_time": "2024-06-03T09:52:15.048Z"
   },
   {
    "duration": 32,
    "start_time": "2024-06-03T09:52:16.570Z"
   },
   {
    "duration": 38,
    "start_time": "2024-06-03T09:52:16.603Z"
   },
   {
    "duration": 229,
    "start_time": "2024-06-03T09:52:16.643Z"
   },
   {
    "duration": 3011,
    "start_time": "2024-06-03T09:52:16.873Z"
   },
   {
    "duration": 42217,
    "start_time": "2024-06-03T09:52:19.886Z"
   },
   {
    "duration": 760,
    "start_time": "2024-06-03T09:53:02.105Z"
   },
   {
    "duration": 44,
    "start_time": "2024-06-03T09:53:02.866Z"
   },
   {
    "duration": 7441,
    "start_time": "2024-06-03T09:53:02.912Z"
   },
   {
    "duration": 1406,
    "start_time": "2024-06-03T09:53:51.413Z"
   },
   {
    "duration": 1189,
    "start_time": "2024-06-03T09:53:52.821Z"
   },
   {
    "duration": 33,
    "start_time": "2024-06-03T09:53:55.377Z"
   },
   {
    "duration": 28,
    "start_time": "2024-06-03T09:53:57.630Z"
   },
   {
    "duration": 225,
    "start_time": "2024-06-03T09:53:59.069Z"
   },
   {
    "duration": 2414,
    "start_time": "2024-06-03T09:54:02.110Z"
   },
   {
    "duration": 42820,
    "start_time": "2024-06-03T09:54:05.929Z"
   },
   {
    "duration": 730,
    "start_time": "2024-06-03T09:54:48.751Z"
   },
   {
    "duration": 37,
    "start_time": "2024-06-03T09:54:54.456Z"
   },
   {
    "duration": 7873,
    "start_time": "2024-06-03T09:54:57.449Z"
   },
   {
    "duration": 1463,
    "start_time": "2024-06-03T09:55:54.678Z"
   },
   {
    "duration": 2615,
    "start_time": "2024-06-03T09:56:19.575Z"
   },
   {
    "duration": 34,
    "start_time": "2024-06-03T09:56:23.270Z"
   },
   {
    "duration": 28,
    "start_time": "2024-06-03T09:56:25.909Z"
   },
   {
    "duration": 224,
    "start_time": "2024-06-03T09:56:27.158Z"
   },
   {
    "duration": 2358,
    "start_time": "2024-06-03T09:56:28.848Z"
   },
   {
    "duration": 42308,
    "start_time": "2024-06-03T09:56:31.208Z"
   },
   {
    "duration": 759,
    "start_time": "2024-06-03T09:57:13.518Z"
   },
   {
    "duration": 38,
    "start_time": "2024-06-03T09:57:14.282Z"
   },
   {
    "duration": 50,
    "start_time": "2024-06-03T09:57:59.516Z"
   },
   {
    "duration": 1355,
    "start_time": "2024-06-03T09:59:10.927Z"
   },
   {
    "duration": 2597,
    "start_time": "2024-06-03T09:59:12.519Z"
   },
   {
    "duration": 32,
    "start_time": "2024-06-03T09:59:24.879Z"
   },
   {
    "duration": 27,
    "start_time": "2024-06-03T09:59:28.031Z"
   },
   {
    "duration": 225,
    "start_time": "2024-06-03T09:59:30.238Z"
   },
   {
    "duration": 2361,
    "start_time": "2024-06-03T09:59:32.109Z"
   },
   {
    "duration": 42015,
    "start_time": "2024-06-03T09:59:36.688Z"
   },
   {
    "duration": 722,
    "start_time": "2024-06-03T10:00:18.705Z"
   },
   {
    "duration": 53,
    "start_time": "2024-06-03T10:00:19.429Z"
   },
   {
    "duration": 4,
    "start_time": "2024-06-03T10:00:19.485Z"
   },
   {
    "duration": 53,
    "start_time": "2024-06-03T10:01:24.372Z"
   },
   {
    "duration": 1346,
    "start_time": "2024-06-03T10:03:47.918Z"
   },
   {
    "duration": 1461,
    "start_time": "2024-06-03T10:04:00.861Z"
   },
   {
    "duration": 2645,
    "start_time": "2024-06-03T10:04:02.324Z"
   },
   {
    "duration": 34,
    "start_time": "2024-06-03T10:04:06.278Z"
   },
   {
    "duration": 29,
    "start_time": "2024-06-03T10:04:08.679Z"
   },
   {
    "duration": 231,
    "start_time": "2024-06-03T10:04:10.799Z"
   },
   {
    "duration": 2449,
    "start_time": "2024-06-03T10:04:12.940Z"
   },
   {
    "duration": 43086,
    "start_time": "2024-06-03T10:04:15.392Z"
   },
   {
    "duration": 735,
    "start_time": "2024-06-03T10:04:58.480Z"
   },
   {
    "duration": 35,
    "start_time": "2024-06-03T10:04:59.217Z"
   },
   {
    "duration": 3,
    "start_time": "2024-06-03T10:04:59.254Z"
   },
   {
    "duration": 1536,
    "start_time": "2024-06-03T10:06:21.151Z"
   },
   {
    "duration": 2613,
    "start_time": "2024-06-03T10:06:22.689Z"
   },
   {
    "duration": 32,
    "start_time": "2024-06-03T10:06:25.305Z"
   },
   {
    "duration": 28,
    "start_time": "2024-06-03T10:06:26.147Z"
   },
   {
    "duration": 229,
    "start_time": "2024-06-03T10:06:27.759Z"
   },
   {
    "duration": 2351,
    "start_time": "2024-06-03T10:06:29.310Z"
   },
   {
    "duration": 42926,
    "start_time": "2024-06-03T10:06:31.663Z"
   },
   {
    "duration": 777,
    "start_time": "2024-06-03T10:07:14.590Z"
   },
   {
    "duration": 79,
    "start_time": "2024-06-03T10:07:15.369Z"
   },
   {
    "duration": 5,
    "start_time": "2024-06-03T10:07:15.449Z"
   },
   {
    "duration": 1418,
    "start_time": "2024-06-03T10:07:58.446Z"
   },
   {
    "duration": 2639,
    "start_time": "2024-06-03T10:07:59.866Z"
   },
   {
    "duration": 34,
    "start_time": "2024-06-03T10:08:02.508Z"
   },
   {
    "duration": 59,
    "start_time": "2024-06-03T10:08:02.544Z"
   },
   {
    "duration": 243,
    "start_time": "2024-06-03T10:08:02.605Z"
   },
   {
    "duration": 2304,
    "start_time": "2024-06-03T10:08:03.908Z"
   },
   {
    "duration": 42876,
    "start_time": "2024-06-03T10:08:06.214Z"
   },
   {
    "duration": 734,
    "start_time": "2024-06-03T10:08:49.091Z"
   },
   {
    "duration": 38,
    "start_time": "2024-06-03T10:08:49.828Z"
   },
   {
    "duration": 17,
    "start_time": "2024-06-03T10:08:49.868Z"
   },
   {
    "duration": 1496,
    "start_time": "2024-06-03T10:10:32.717Z"
   },
   {
    "duration": 2590,
    "start_time": "2024-06-03T10:10:34.215Z"
   },
   {
    "duration": 32,
    "start_time": "2024-06-03T10:10:36.806Z"
   },
   {
    "duration": 27,
    "start_time": "2024-06-03T10:10:36.840Z"
   },
   {
    "duration": 241,
    "start_time": "2024-06-03T10:10:36.868Z"
   },
   {
    "duration": 2385,
    "start_time": "2024-06-03T10:10:37.111Z"
   },
   {
    "duration": 45132,
    "start_time": "2024-06-03T10:10:39.498Z"
   },
   {
    "duration": 758,
    "start_time": "2024-06-03T10:11:24.632Z"
   },
   {
    "duration": 33,
    "start_time": "2024-06-03T10:11:25.393Z"
   },
   {
    "duration": 3,
    "start_time": "2024-06-03T10:11:25.428Z"
   },
   {
    "duration": 1115,
    "start_time": "2024-06-03T10:11:38.291Z"
   },
   {
    "duration": 1003,
    "start_time": "2024-06-03T10:15:13.070Z"
   },
   {
    "duration": 920,
    "start_time": "2024-06-03T10:18:02.672Z"
   },
   {
    "duration": 1722,
    "start_time": "2024-06-03T12:23:50.437Z"
   },
   {
    "duration": 1519,
    "start_time": "2024-06-03T12:23:52.162Z"
   },
   {
    "duration": 39,
    "start_time": "2024-06-03T12:23:53.683Z"
   },
   {
    "duration": 29,
    "start_time": "2024-06-03T12:23:53.724Z"
   },
   {
    "duration": 277,
    "start_time": "2024-06-03T12:23:53.756Z"
   },
   {
    "duration": 3425,
    "start_time": "2024-06-03T12:23:54.035Z"
   },
   {
    "duration": 51285,
    "start_time": "2024-06-03T12:23:57.461Z"
   },
   {
    "duration": 866,
    "start_time": "2024-06-03T12:24:48.748Z"
   },
   {
    "duration": 37,
    "start_time": "2024-06-03T12:24:49.616Z"
   },
   {
    "duration": 4,
    "start_time": "2024-06-03T12:24:49.654Z"
   },
   {
    "duration": 9078,
    "start_time": "2024-06-03T12:24:49.660Z"
   },
   {
    "duration": 163,
    "start_time": "2024-06-03T12:24:58.740Z"
   },
   {
    "duration": 0,
    "start_time": "2024-06-03T12:24:58.906Z"
   },
   {
    "duration": 0,
    "start_time": "2024-06-03T12:24:58.907Z"
   },
   {
    "duration": 0,
    "start_time": "2024-06-03T12:24:58.908Z"
   },
   {
    "duration": 76542,
    "start_time": "2024-06-03T12:27:02.259Z"
   },
   {
    "duration": 75741,
    "start_time": "2024-06-03T12:31:19.261Z"
   },
   {
    "duration": 1534761,
    "start_time": "2024-06-03T12:33:29.587Z"
   },
   {
    "duration": 36973,
    "start_time": "2024-06-03T12:59:33.178Z"
   },
   {
    "duration": 24,
    "start_time": "2024-06-03T13:00:52.468Z"
   },
   {
    "duration": 19,
    "start_time": "2024-06-03T13:02:06.196Z"
   },
   {
    "duration": 20,
    "start_time": "2024-06-03T13:03:35.071Z"
   },
   {
    "duration": 21,
    "start_time": "2024-06-03T13:03:59.579Z"
   },
   {
    "duration": 21,
    "start_time": "2024-06-03T13:04:21.833Z"
   },
   {
    "duration": 8,
    "start_time": "2024-06-03T13:04:26.960Z"
   },
   {
    "duration": 10,
    "start_time": "2024-06-03T13:04:49.575Z"
   },
   {
    "duration": 18,
    "start_time": "2024-06-03T13:05:46.741Z"
   },
   {
    "duration": 34,
    "start_time": "2024-06-03T13:05:59.485Z"
   },
   {
    "duration": 61,
    "start_time": "2024-06-03T13:06:07.822Z"
   },
   {
    "duration": 6,
    "start_time": "2024-06-03T13:06:18.330Z"
   },
   {
    "duration": 18,
    "start_time": "2024-06-03T13:06:42.996Z"
   },
   {
    "duration": 8,
    "start_time": "2024-06-03T13:06:49.112Z"
   },
   {
    "duration": 2746,
    "start_time": "2024-06-03T14:16:40.633Z"
   },
   {
    "duration": 3327,
    "start_time": "2024-06-03T14:16:43.381Z"
   },
   {
    "duration": 24,
    "start_time": "2024-06-03T14:16:46.710Z"
   },
   {
    "duration": 20,
    "start_time": "2024-06-03T14:16:46.737Z"
   },
   {
    "duration": 246,
    "start_time": "2024-06-03T14:16:46.758Z"
   },
   {
    "duration": 2220,
    "start_time": "2024-06-03T14:16:47.005Z"
   },
   {
    "duration": 39100,
    "start_time": "2024-06-03T14:16:49.227Z"
   },
   {
    "duration": 809,
    "start_time": "2024-06-03T14:17:28.329Z"
   },
   {
    "duration": 26,
    "start_time": "2024-06-03T14:17:39.532Z"
   },
   {
    "duration": 5,
    "start_time": "2024-06-03T14:18:00.747Z"
   },
   {
    "duration": 6633,
    "start_time": "2024-06-03T14:18:11.843Z"
   },
   {
    "duration": 61070,
    "start_time": "2024-06-03T14:18:32.902Z"
   },
   {
    "duration": 4,
    "start_time": "2024-06-03T14:19:40.688Z"
   },
   {
    "duration": 116,
    "start_time": "2024-06-03T14:19:54.504Z"
   },
   {
    "duration": 3,
    "start_time": "2024-06-03T14:20:05.833Z"
   },
   {
    "duration": 7,
    "start_time": "2024-06-03T14:20:36.934Z"
   },
   {
    "duration": 4,
    "start_time": "2024-06-03T14:21:43.414Z"
   },
   {
    "duration": 5,
    "start_time": "2024-06-03T14:22:31.254Z"
   },
   {
    "duration": 4,
    "start_time": "2024-06-03T14:22:51.392Z"
   },
   {
    "duration": 10,
    "start_time": "2024-06-03T14:23:28.307Z"
   },
   {
    "duration": 143,
    "start_time": "2024-06-03T14:23:42.852Z"
   },
   {
    "duration": 4,
    "start_time": "2024-06-03T14:24:23.139Z"
   },
   {
    "duration": 8,
    "start_time": "2024-06-03T14:24:32.252Z"
   },
   {
    "duration": 4,
    "start_time": "2024-06-03T14:24:41.023Z"
   },
   {
    "duration": 3259,
    "start_time": "2024-06-03T14:25:02.344Z"
   },
   {
    "duration": 1089,
    "start_time": "2024-06-03T14:25:05.606Z"
   },
   {
    "duration": 26,
    "start_time": "2024-06-03T14:25:06.698Z"
   },
   {
    "duration": 25,
    "start_time": "2024-06-03T14:25:06.725Z"
   },
   {
    "duration": 257,
    "start_time": "2024-06-03T14:25:06.753Z"
   },
   {
    "duration": 2279,
    "start_time": "2024-06-03T14:25:07.014Z"
   },
   {
    "duration": 41152,
    "start_time": "2024-06-03T14:25:09.295Z"
   },
   {
    "duration": 836,
    "start_time": "2024-06-03T14:25:50.448Z"
   },
   {
    "duration": 28,
    "start_time": "2024-06-03T14:25:51.285Z"
   },
   {
    "duration": 134,
    "start_time": "2024-06-03T14:25:51.315Z"
   },
   {
    "duration": 352,
    "start_time": "2024-06-03T14:27:10.717Z"
   },
   {
    "duration": 5,
    "start_time": "2024-06-03T14:27:54.080Z"
   },
   {
    "duration": 12,
    "start_time": "2024-06-03T14:28:13.560Z"
   },
   {
    "duration": 10,
    "start_time": "2024-06-03T14:28:47.172Z"
   },
   {
    "duration": 4,
    "start_time": "2024-06-03T14:29:41.936Z"
   },
   {
    "duration": 9,
    "start_time": "2024-06-03T14:29:42.018Z"
   },
   {
    "duration": 9,
    "start_time": "2024-06-03T14:30:03.250Z"
   },
   {
    "duration": 132,
    "start_time": "2024-06-03T14:30:12.784Z"
   },
   {
    "duration": 22,
    "start_time": "2024-06-03T14:30:41.185Z"
   },
   {
    "duration": 141,
    "start_time": "2024-06-03T14:30:41.233Z"
   },
   {
    "duration": 21,
    "start_time": "2024-06-03T14:30:58.116Z"
   },
   {
    "duration": 18,
    "start_time": "2024-06-03T14:31:35.659Z"
   },
   {
    "duration": 9847,
    "start_time": "2024-06-03T14:32:10.404Z"
   },
   {
    "duration": 1084,
    "start_time": "2024-06-03T14:32:20.253Z"
   },
   {
    "duration": 24,
    "start_time": "2024-06-03T14:32:21.338Z"
   },
   {
    "duration": 28,
    "start_time": "2024-06-03T14:32:21.364Z"
   },
   {
    "duration": 255,
    "start_time": "2024-06-03T14:32:21.393Z"
   },
   {
    "duration": 2196,
    "start_time": "2024-06-03T14:32:21.649Z"
   },
   {
    "duration": 39031,
    "start_time": "2024-06-03T14:32:23.846Z"
   },
   {
    "duration": 795,
    "start_time": "2024-06-03T14:33:02.879Z"
   },
   {
    "duration": 25,
    "start_time": "2024-06-03T14:33:03.675Z"
   },
   {
    "duration": 26,
    "start_time": "2024-06-03T14:33:03.702Z"
   },
   {
    "duration": 6515,
    "start_time": "2024-06-03T14:33:03.730Z"
   },
   {
    "duration": 2575,
    "start_time": "2024-06-03T14:37:50.545Z"
   },
   {
    "duration": 3381,
    "start_time": "2024-06-03T14:37:53.122Z"
   },
   {
    "duration": 26,
    "start_time": "2024-06-03T14:37:56.504Z"
   },
   {
    "duration": 21,
    "start_time": "2024-06-03T14:37:56.532Z"
   },
   {
    "duration": 240,
    "start_time": "2024-06-03T14:37:56.556Z"
   },
   {
    "duration": 2261,
    "start_time": "2024-06-03T14:37:56.798Z"
   },
   {
    "duration": 39807,
    "start_time": "2024-06-03T14:37:59.061Z"
   },
   {
    "duration": 828,
    "start_time": "2024-06-03T14:38:38.870Z"
   },
   {
    "duration": 37,
    "start_time": "2024-06-03T14:38:39.700Z"
   },
   {
    "duration": 17,
    "start_time": "2024-06-03T14:38:39.738Z"
   },
   {
    "duration": 6768,
    "start_time": "2024-06-03T14:38:39.756Z"
   },
   {
    "duration": 63549,
    "start_time": "2024-06-03T14:38:46.525Z"
   },
   {
    "duration": 2384,
    "start_time": "2024-06-03T14:39:50.076Z"
   },
   {
    "duration": 14406,
    "start_time": "2024-06-03T14:40:08.181Z"
   },
   {
    "duration": 51,
    "start_time": "2024-06-04T05:48:45.178Z"
   },
   {
    "duration": 1339,
    "start_time": "2024-06-04T05:48:49.759Z"
   },
   {
    "duration": 2442,
    "start_time": "2024-06-04T05:48:54.747Z"
   },
   {
    "duration": 885,
    "start_time": "2024-06-04T05:49:06.104Z"
   },
   {
    "duration": 888,
    "start_time": "2024-06-04T05:49:25.449Z"
   },
   {
    "duration": 909,
    "start_time": "2024-06-04T05:49:46.538Z"
   },
   {
    "duration": 4,
    "start_time": "2024-06-04T05:53:39.707Z"
   },
   {
    "duration": 13504,
    "start_time": "2024-06-04T06:02:01.932Z"
   },
   {
    "duration": 0,
    "start_time": "2024-06-04T06:02:15.438Z"
   },
   {
    "duration": 4,
    "start_time": "2024-06-04T06:06:25.152Z"
   },
   {
    "duration": 12676,
    "start_time": "2024-06-04T06:06:30.420Z"
   },
   {
    "duration": 964,
    "start_time": "2024-06-04T06:10:13.270Z"
   },
   {
    "duration": 5,
    "start_time": "2024-06-04T06:24:05.913Z"
   },
   {
    "duration": 2,
    "start_time": "2024-06-04T06:31:59.112Z"
   },
   {
    "duration": 4221,
    "start_time": "2024-06-04T06:32:57.708Z"
   },
   {
    "duration": 3447,
    "start_time": "2024-06-04T06:33:18.499Z"
   },
   {
    "duration": 3,
    "start_time": "2024-06-04T06:36:32.560Z"
   },
   {
    "duration": 3,
    "start_time": "2024-06-04T06:39:48.507Z"
   },
   {
    "duration": 281,
    "start_time": "2024-06-04T06:39:50.880Z"
   },
   {
    "duration": 1287,
    "start_time": "2024-06-04T06:43:04.822Z"
   },
   {
    "duration": 919,
    "start_time": "2024-06-04T06:43:06.111Z"
   },
   {
    "duration": 35,
    "start_time": "2024-06-04T06:43:07.032Z"
   },
   {
    "duration": 24,
    "start_time": "2024-06-04T06:43:07.069Z"
   },
   {
    "duration": 221,
    "start_time": "2024-06-04T06:43:07.095Z"
   },
   {
    "duration": 3,
    "start_time": "2024-06-04T06:43:07.317Z"
   },
   {
    "duration": 4151,
    "start_time": "2024-06-04T06:43:07.322Z"
   },
   {
    "duration": 4,
    "start_time": "2024-06-04T06:43:11.475Z"
   },
   {
    "duration": 31,
    "start_time": "2024-06-04T06:43:11.481Z"
   },
   {
    "duration": 360,
    "start_time": "2024-06-04T06:43:11.514Z"
   },
   {
    "duration": 0,
    "start_time": "2024-06-04T06:43:11.876Z"
   },
   {
    "duration": 0,
    "start_time": "2024-06-04T06:43:11.877Z"
   },
   {
    "duration": 0,
    "start_time": "2024-06-04T06:43:11.878Z"
   },
   {
    "duration": 0,
    "start_time": "2024-06-04T06:43:11.879Z"
   },
   {
    "duration": 0,
    "start_time": "2024-06-04T06:43:11.880Z"
   },
   {
    "duration": 0,
    "start_time": "2024-06-04T06:43:11.881Z"
   },
   {
    "duration": 0,
    "start_time": "2024-06-04T06:43:11.882Z"
   },
   {
    "duration": 0,
    "start_time": "2024-06-04T06:43:11.883Z"
   },
   {
    "duration": 0,
    "start_time": "2024-06-04T06:43:11.884Z"
   },
   {
    "duration": 0,
    "start_time": "2024-06-04T06:43:11.885Z"
   },
   {
    "duration": 3,
    "start_time": "2024-06-04T06:44:51.044Z"
   },
   {
    "duration": 1340,
    "start_time": "2024-06-04T06:44:59.943Z"
   },
   {
    "duration": 918,
    "start_time": "2024-06-04T06:45:01.285Z"
   },
   {
    "duration": 31,
    "start_time": "2024-06-04T06:45:02.205Z"
   },
   {
    "duration": 35,
    "start_time": "2024-06-04T06:45:02.238Z"
   },
   {
    "duration": 236,
    "start_time": "2024-06-04T06:45:02.275Z"
   },
   {
    "duration": 3,
    "start_time": "2024-06-04T06:45:02.513Z"
   },
   {
    "duration": 4127,
    "start_time": "2024-06-04T06:45:02.517Z"
   },
   {
    "duration": 3,
    "start_time": "2024-06-04T06:45:06.645Z"
   },
   {
    "duration": 15,
    "start_time": "2024-06-04T06:45:06.650Z"
   },
   {
    "duration": 358,
    "start_time": "2024-06-04T06:45:06.666Z"
   },
   {
    "duration": 0,
    "start_time": "2024-06-04T06:45:07.027Z"
   },
   {
    "duration": 0,
    "start_time": "2024-06-04T06:45:07.028Z"
   },
   {
    "duration": 0,
    "start_time": "2024-06-04T06:45:07.033Z"
   },
   {
    "duration": 0,
    "start_time": "2024-06-04T06:45:07.034Z"
   },
   {
    "duration": 0,
    "start_time": "2024-06-04T06:45:07.035Z"
   },
   {
    "duration": 0,
    "start_time": "2024-06-04T06:45:07.036Z"
   },
   {
    "duration": 0,
    "start_time": "2024-06-04T06:45:07.038Z"
   },
   {
    "duration": 0,
    "start_time": "2024-06-04T06:45:07.039Z"
   },
   {
    "duration": 0,
    "start_time": "2024-06-04T06:45:07.040Z"
   },
   {
    "duration": 0,
    "start_time": "2024-06-04T06:45:07.041Z"
   },
   {
    "duration": 4,
    "start_time": "2024-06-04T06:46:26.947Z"
   },
   {
    "duration": 1325,
    "start_time": "2024-06-04T06:54:23.825Z"
   },
   {
    "duration": 937,
    "start_time": "2024-06-04T06:54:25.151Z"
   },
   {
    "duration": 30,
    "start_time": "2024-06-04T06:54:26.089Z"
   },
   {
    "duration": 80,
    "start_time": "2024-06-04T06:54:26.120Z"
   },
   {
    "duration": 210,
    "start_time": "2024-06-04T06:54:26.202Z"
   },
   {
    "duration": 3,
    "start_time": "2024-06-04T06:54:26.414Z"
   },
   {
    "duration": 4198,
    "start_time": "2024-06-04T06:54:26.418Z"
   },
   {
    "duration": 4,
    "start_time": "2024-06-04T06:54:30.617Z"
   },
   {
    "duration": 80,
    "start_time": "2024-06-04T06:54:30.623Z"
   },
   {
    "duration": 435,
    "start_time": "2024-06-04T06:54:30.705Z"
   },
   {
    "duration": 0,
    "start_time": "2024-06-04T06:54:31.142Z"
   },
   {
    "duration": 0,
    "start_time": "2024-06-04T06:54:31.143Z"
   },
   {
    "duration": 0,
    "start_time": "2024-06-04T06:54:31.144Z"
   },
   {
    "duration": 0,
    "start_time": "2024-06-04T06:54:31.145Z"
   },
   {
    "duration": 0,
    "start_time": "2024-06-04T06:54:31.147Z"
   },
   {
    "duration": 0,
    "start_time": "2024-06-04T06:54:31.148Z"
   },
   {
    "duration": 0,
    "start_time": "2024-06-04T06:54:31.149Z"
   },
   {
    "duration": 0,
    "start_time": "2024-06-04T06:54:31.150Z"
   },
   {
    "duration": 0,
    "start_time": "2024-06-04T06:54:31.151Z"
   },
   {
    "duration": 0,
    "start_time": "2024-06-04T06:54:31.152Z"
   },
   {
    "duration": 1332,
    "start_time": "2024-06-04T07:00:12.084Z"
   },
   {
    "duration": 6,
    "start_time": "2024-06-04T07:00:13.417Z"
   },
   {
    "duration": 923,
    "start_time": "2024-06-04T07:00:13.424Z"
   },
   {
    "duration": 32,
    "start_time": "2024-06-04T07:00:14.349Z"
   },
   {
    "duration": 32,
    "start_time": "2024-06-04T07:00:14.382Z"
   },
   {
    "duration": 228,
    "start_time": "2024-06-04T07:00:14.415Z"
   },
   {
    "duration": 3,
    "start_time": "2024-06-04T07:00:14.644Z"
   },
   {
    "duration": 4279,
    "start_time": "2024-06-04T07:00:14.649Z"
   },
   {
    "duration": 4,
    "start_time": "2024-06-04T07:00:18.929Z"
   },
   {
    "duration": 4,
    "start_time": "2024-06-04T07:00:18.935Z"
   },
   {
    "duration": 1088338,
    "start_time": "2024-06-04T07:00:18.940Z"
   },
   {
    "duration": 145,
    "start_time": "2024-06-04T07:18:27.280Z"
   },
   {
    "duration": 0,
    "start_time": "2024-06-04T07:18:27.427Z"
   },
   {
    "duration": 0,
    "start_time": "2024-06-04T07:18:27.428Z"
   },
   {
    "duration": 0,
    "start_time": "2024-06-04T07:18:27.429Z"
   },
   {
    "duration": 0,
    "start_time": "2024-06-04T07:18:27.431Z"
   },
   {
    "duration": 0,
    "start_time": "2024-06-04T07:18:27.433Z"
   },
   {
    "duration": 0,
    "start_time": "2024-06-04T07:18:27.434Z"
   },
   {
    "duration": 0,
    "start_time": "2024-06-04T07:18:27.435Z"
   },
   {
    "duration": 0,
    "start_time": "2024-06-04T07:18:27.437Z"
   },
   {
    "duration": 0,
    "start_time": "2024-06-04T07:18:27.438Z"
   },
   {
    "duration": 0,
    "start_time": "2024-06-04T07:18:27.439Z"
   },
   {
    "duration": 7,
    "start_time": "2024-06-04T07:20:17.441Z"
   },
   {
    "duration": 11,
    "start_time": "2024-06-04T07:20:51.866Z"
   },
   {
    "duration": 34,
    "start_time": "2024-06-04T07:21:05.794Z"
   },
   {
    "duration": 27,
    "start_time": "2024-06-04T07:21:22.751Z"
   },
   {
    "duration": 948,
    "start_time": "2024-06-04T07:22:37.905Z"
   },
   {
    "duration": 32,
    "start_time": "2024-06-04T07:22:58.214Z"
   },
   {
    "duration": 24,
    "start_time": "2024-06-04T07:23:06.894Z"
   },
   {
    "duration": 6644,
    "start_time": "2024-06-04T07:23:12.458Z"
   },
   {
    "duration": 9,
    "start_time": "2024-06-04T07:23:28.687Z"
   },
   {
    "duration": 15,
    "start_time": "2024-06-04T07:23:34.593Z"
   },
   {
    "duration": 14,
    "start_time": "2024-06-04T07:27:29.238Z"
   },
   {
    "duration": 6414,
    "start_time": "2024-06-04T07:27:37.869Z"
   },
   {
    "duration": 48055,
    "start_time": "2024-06-04T07:27:51.616Z"
   },
   {
    "duration": 299861,
    "start_time": "2024-06-04T07:29:52.595Z"
   },
   {
    "duration": 30233,
    "start_time": "2024-06-04T07:34:52.458Z"
   },
   {
    "duration": 125358,
    "start_time": "2024-06-04T07:37:00.715Z"
   },
   {
    "duration": 6,
    "start_time": "2024-06-04T07:41:27.115Z"
   },
   {
    "duration": 521542,
    "start_time": "2024-06-04T07:47:58.974Z"
   },
   {
    "duration": 6,
    "start_time": "2024-06-04T08:00:09.619Z"
   },
   {
    "duration": 43,
    "start_time": "2024-06-04T15:15:24.107Z"
   },
   {
    "duration": 6,
    "start_time": "2024-06-04T15:15:32.067Z"
   },
   {
    "duration": 1294,
    "start_time": "2024-06-04T15:15:47.798Z"
   },
   {
    "duration": 3362,
    "start_time": "2024-06-04T15:15:49.839Z"
   },
   {
    "duration": 23,
    "start_time": "2024-06-04T15:15:56.639Z"
   },
   {
    "duration": 20,
    "start_time": "2024-06-04T15:15:58.977Z"
   },
   {
    "duration": 212,
    "start_time": "2024-06-04T15:16:00.978Z"
   },
   {
    "duration": 92,
    "start_time": "2024-06-04T15:16:02.137Z"
   },
   {
    "duration": 900,
    "start_time": "2024-06-04T15:17:10.609Z"
   },
   {
    "duration": 877,
    "start_time": "2024-06-04T15:17:19.789Z"
   },
   {
    "duration": 609,
    "start_time": "2024-06-04T15:23:49.961Z"
   },
   {
    "duration": 6,
    "start_time": "2024-06-04T15:25:02.321Z"
   },
   {
    "duration": 16,
    "start_time": "2024-06-04T15:26:01.212Z"
   },
   {
    "duration": 336,
    "start_time": "2024-06-04T15:26:46.571Z"
   },
   {
    "duration": 25,
    "start_time": "2024-06-04T15:26:58.651Z"
   },
   {
    "duration": 18,
    "start_time": "2024-06-04T15:27:24.041Z"
   },
   {
    "duration": 89,
    "start_time": "2024-06-04T15:27:42.291Z"
   },
   {
    "duration": 162,
    "start_time": "2024-06-04T15:27:58.971Z"
   },
   {
    "duration": 108,
    "start_time": "2024-06-04T15:28:14.170Z"
   },
   {
    "duration": 112,
    "start_time": "2024-06-04T15:28:22.482Z"
   },
   {
    "duration": 117,
    "start_time": "2024-06-04T15:29:46.501Z"
   },
   {
    "duration": 112,
    "start_time": "2024-06-04T15:29:50.522Z"
   },
   {
    "duration": 8,
    "start_time": "2024-06-04T15:30:30.626Z"
   },
   {
    "duration": 6,
    "start_time": "2024-06-04T15:31:16.041Z"
   },
   {
    "duration": 12,
    "start_time": "2024-06-04T15:31:57.981Z"
   },
   {
    "duration": 98,
    "start_time": "2024-06-04T15:32:04.111Z"
   },
   {
    "duration": 100,
    "start_time": "2024-06-04T15:32:20.581Z"
   },
   {
    "duration": 100,
    "start_time": "2024-06-04T15:35:37.191Z"
   },
   {
    "duration": 133,
    "start_time": "2024-06-04T15:35:48.152Z"
   },
   {
    "duration": 10,
    "start_time": "2024-06-04T15:38:34.041Z"
   },
   {
    "duration": 12,
    "start_time": "2024-06-04T15:38:45.182Z"
   },
   {
    "duration": 10,
    "start_time": "2024-06-04T15:39:47.451Z"
   },
   {
    "duration": 13,
    "start_time": "2024-06-04T15:40:29.191Z"
   },
   {
    "duration": 10,
    "start_time": "2024-06-04T15:40:42.191Z"
   },
   {
    "duration": 10,
    "start_time": "2024-06-04T15:41:19.341Z"
   },
   {
    "duration": 9,
    "start_time": "2024-06-04T15:41:44.711Z"
   },
   {
    "duration": 13,
    "start_time": "2024-06-04T15:42:32.082Z"
   },
   {
    "duration": 4,
    "start_time": "2024-06-04T15:42:39.571Z"
   },
   {
    "duration": 10,
    "start_time": "2024-06-04T15:42:46.611Z"
   },
   {
    "duration": 99,
    "start_time": "2024-06-04T15:43:25.371Z"
   },
   {
    "duration": 10,
    "start_time": "2024-06-04T15:45:20.741Z"
   },
   {
    "duration": 105,
    "start_time": "2024-06-04T15:47:32.221Z"
   },
   {
    "duration": 123,
    "start_time": "2024-06-04T15:48:10.991Z"
   },
   {
    "duration": 14,
    "start_time": "2024-06-04T16:45:28.885Z"
   },
   {
    "duration": 103,
    "start_time": "2024-06-04T16:45:46.973Z"
   },
   {
    "duration": 1031,
    "start_time": "2024-06-04T16:46:44.280Z"
   },
   {
    "duration": 175,
    "start_time": "2024-06-04T16:47:02.420Z"
   },
   {
    "duration": 108,
    "start_time": "2024-06-04T16:48:22.731Z"
   },
   {
    "duration": 125,
    "start_time": "2024-06-04T16:48:31.109Z"
   },
   {
    "duration": 97,
    "start_time": "2024-06-04T16:48:47.179Z"
   },
   {
    "duration": 95,
    "start_time": "2024-06-04T16:48:51.002Z"
   },
   {
    "duration": 102,
    "start_time": "2024-06-04T16:48:59.169Z"
   },
   {
    "duration": 17,
    "start_time": "2024-06-04T16:49:10.837Z"
   },
   {
    "duration": 10,
    "start_time": "2024-06-04T16:49:21.025Z"
   },
   {
    "duration": 97,
    "start_time": "2024-06-04T16:49:27.131Z"
   },
   {
    "duration": 1527,
    "start_time": "2024-06-06T02:34:16.034Z"
   },
   {
    "duration": 2950,
    "start_time": "2024-06-06T02:34:20.226Z"
   },
   {
    "duration": 15,
    "start_time": "2024-06-06T02:34:23.178Z"
   },
   {
    "duration": 19,
    "start_time": "2024-06-06T02:34:23.194Z"
   },
   {
    "duration": 202,
    "start_time": "2024-06-06T02:34:23.216Z"
   },
   {
    "duration": 6,
    "start_time": "2024-06-06T02:34:23.846Z"
   },
   {
    "duration": 104,
    "start_time": "2024-06-06T02:34:24.096Z"
   },
   {
    "duration": 3,
    "start_time": "2024-06-06T02:34:25.916Z"
   },
   {
    "duration": 3501,
    "start_time": "2024-06-06T02:34:26.175Z"
   },
   {
    "duration": 2,
    "start_time": "2024-06-06T02:34:29.678Z"
   },
   {
    "duration": 18,
    "start_time": "2024-06-06T02:34:29.682Z"
   },
   {
    "duration": 352,
    "start_time": "2024-06-06T02:34:29.702Z"
   },
   {
    "duration": 0,
    "start_time": "2024-06-06T02:34:30.056Z"
   },
   {
    "duration": 3,
    "start_time": "2024-06-06T02:35:26.030Z"
   },
   {
    "duration": 1411,
    "start_time": "2024-06-06T03:04:41.591Z"
   },
   {
    "duration": 752,
    "start_time": "2024-06-06T03:04:43.004Z"
   },
   {
    "duration": 24,
    "start_time": "2024-06-06T03:04:43.848Z"
   },
   {
    "duration": 20,
    "start_time": "2024-06-06T03:04:44.693Z"
   },
   {
    "duration": 219,
    "start_time": "2024-06-06T03:04:45.083Z"
   },
   {
    "duration": 6,
    "start_time": "2024-06-06T03:04:45.548Z"
   },
   {
    "duration": 101,
    "start_time": "2024-06-06T03:04:45.788Z"
   },
   {
    "duration": 2,
    "start_time": "2024-06-06T03:04:47.653Z"
   },
   {
    "duration": 3587,
    "start_time": "2024-06-06T03:04:48.054Z"
   },
   {
    "duration": 3,
    "start_time": "2024-06-06T03:04:51.642Z"
   },
   {
    "duration": 20,
    "start_time": "2024-06-06T03:04:51.646Z"
   },
   {
    "duration": 988700,
    "start_time": "2024-06-06T03:04:51.667Z"
   },
   {
    "duration": 7,
    "start_time": "2024-06-06T03:21:20.368Z"
   },
   {
    "duration": 20,
    "start_time": "2024-06-06T03:22:27.541Z"
   },
   {
    "duration": 17,
    "start_time": "2024-06-06T03:22:28.320Z"
   },
   {
    "duration": 5708,
    "start_time": "2024-06-06T03:22:29.668Z"
   },
   {
    "duration": 45834,
    "start_time": "2024-06-06T03:22:38.548Z"
   },
   {
    "duration": 14013,
    "start_time": "2024-06-06T03:31:25.876Z"
   },
   {
    "duration": 13244,
    "start_time": "2024-06-06T03:31:49.442Z"
   },
   {
    "duration": 13283,
    "start_time": "2024-06-06T03:32:13.708Z"
   },
   {
    "duration": 121,
    "start_time": "2024-06-06T03:33:40.544Z"
   },
   {
    "duration": 13413,
    "start_time": "2024-06-06T03:33:49.171Z"
   },
   {
    "duration": 1819,
    "start_time": "2024-06-06T21:53:35.023Z"
   },
   {
    "duration": 2177,
    "start_time": "2024-06-06T21:53:40.425Z"
   },
   {
    "duration": 29,
    "start_time": "2024-06-06T21:53:42.604Z"
   },
   {
    "duration": 25,
    "start_time": "2024-06-06T21:53:43.233Z"
   },
   {
    "duration": 209,
    "start_time": "2024-06-06T21:53:43.690Z"
   },
   {
    "duration": 7,
    "start_time": "2024-06-06T21:53:44.092Z"
   },
   {
    "duration": 127,
    "start_time": "2024-06-06T21:53:44.312Z"
   },
   {
    "duration": 2,
    "start_time": "2024-06-06T21:53:45.603Z"
   },
   {
    "duration": 4161,
    "start_time": "2024-06-06T21:53:45.970Z"
   },
   {
    "duration": 3,
    "start_time": "2024-06-06T21:53:50.133Z"
   },
   {
    "duration": 3,
    "start_time": "2024-06-06T21:53:50.145Z"
   },
   {
    "duration": 566,
    "start_time": "2024-06-06T21:53:50.242Z"
   },
   {
    "duration": 6,
    "start_time": "2024-06-06T21:53:51.040Z"
   },
   {
    "duration": 3,
    "start_time": "2024-06-06T21:54:11.305Z"
   },
   {
    "duration": 1548,
    "start_time": "2024-06-06T22:04:05.206Z"
   },
   {
    "duration": 855,
    "start_time": "2024-06-06T22:04:06.756Z"
   },
   {
    "duration": 33,
    "start_time": "2024-06-06T22:04:07.613Z"
   },
   {
    "duration": 24,
    "start_time": "2024-06-06T22:04:08.151Z"
   },
   {
    "duration": 198,
    "start_time": "2024-06-06T22:04:08.471Z"
   },
   {
    "duration": 7,
    "start_time": "2024-06-06T22:04:08.830Z"
   },
   {
    "duration": 125,
    "start_time": "2024-06-06T22:04:09.052Z"
   },
   {
    "duration": 3,
    "start_time": "2024-06-06T22:04:10.092Z"
   },
   {
    "duration": 4060,
    "start_time": "2024-06-06T22:04:10.332Z"
   },
   {
    "duration": 3,
    "start_time": "2024-06-06T22:04:16.893Z"
   },
   {
    "duration": 3,
    "start_time": "2024-06-06T22:04:17.589Z"
   },
   {
    "duration": 1113535,
    "start_time": "2024-06-06T22:04:18.332Z"
   },
   {
    "duration": 7,
    "start_time": "2024-06-06T22:22:51.869Z"
   },
   {
    "duration": 38,
    "start_time": "2024-06-06T22:23:33.545Z"
   },
   {
    "duration": 40,
    "start_time": "2024-06-06T22:25:11.040Z"
   },
   {
    "duration": 121,
    "start_time": "2024-06-06T22:25:45.325Z"
   },
   {
    "duration": 20,
    "start_time": "2024-06-06T22:27:46.917Z"
   },
   {
    "duration": 15,
    "start_time": "2024-06-06T22:28:43.148Z"
   },
   {
    "duration": 9,
    "start_time": "2024-06-06T22:30:44.676Z"
   },
   {
    "duration": 4,
    "start_time": "2024-06-06T22:30:49.898Z"
   },
   {
    "duration": 4,
    "start_time": "2024-06-06T22:31:06.523Z"
   },
   {
    "duration": 17,
    "start_time": "2024-06-06T22:35:06.379Z"
   },
   {
    "duration": 1922,
    "start_time": "2024-06-08T06:47:48.886Z"
   },
   {
    "duration": 3297,
    "start_time": "2024-06-08T06:47:50.810Z"
   },
   {
    "duration": 36,
    "start_time": "2024-06-08T06:47:54.109Z"
   },
   {
    "duration": 47,
    "start_time": "2024-06-08T06:47:54.147Z"
   },
   {
    "duration": 251,
    "start_time": "2024-06-08T06:47:54.196Z"
   },
   {
    "duration": 10,
    "start_time": "2024-06-08T06:47:54.449Z"
   },
   {
    "duration": 160,
    "start_time": "2024-06-08T06:47:54.460Z"
   },
   {
    "duration": 4,
    "start_time": "2024-06-08T06:47:54.621Z"
   },
   {
    "duration": 4532,
    "start_time": "2024-06-08T06:47:54.627Z"
   },
   {
    "duration": 3,
    "start_time": "2024-06-08T06:47:59.161Z"
   },
   {
    "duration": 30,
    "start_time": "2024-06-08T06:47:59.166Z"
   },
   {
    "duration": 467,
    "start_time": "2024-06-08T06:47:59.198Z"
   },
   {
    "duration": 0,
    "start_time": "2024-06-08T06:47:59.667Z"
   },
   {
    "duration": 1831,
    "start_time": "2024-06-08T06:54:32.270Z"
   },
   {
    "duration": 930,
    "start_time": "2024-06-08T06:54:34.104Z"
   },
   {
    "duration": 33,
    "start_time": "2024-06-08T06:54:35.036Z"
   },
   {
    "duration": 39,
    "start_time": "2024-06-08T06:54:35.070Z"
   },
   {
    "duration": 245,
    "start_time": "2024-06-08T06:54:35.112Z"
   },
   {
    "duration": 8,
    "start_time": "2024-06-08T06:54:35.358Z"
   },
   {
    "duration": 152,
    "start_time": "2024-06-08T06:54:35.368Z"
   },
   {
    "duration": 3,
    "start_time": "2024-06-08T06:54:35.522Z"
   },
   {
    "duration": 4754,
    "start_time": "2024-06-08T06:54:35.527Z"
   },
   {
    "duration": 3,
    "start_time": "2024-06-08T06:54:40.283Z"
   },
   {
    "duration": 8,
    "start_time": "2024-06-08T06:54:40.291Z"
   },
   {
    "duration": 1230916,
    "start_time": "2024-06-08T06:54:40.301Z"
   },
   {
    "duration": 1685,
    "start_time": "2024-06-08T07:19:58.082Z"
   },
   {
    "duration": 979,
    "start_time": "2024-06-08T07:19:59.769Z"
   },
   {
    "duration": 34,
    "start_time": "2024-06-08T07:20:00.750Z"
   },
   {
    "duration": 521,
    "start_time": "2024-06-08T07:20:00.791Z"
   },
   {
    "duration": 302,
    "start_time": "2024-06-08T07:20:01.314Z"
   },
   {
    "duration": 8,
    "start_time": "2024-06-08T07:20:01.618Z"
   },
   {
    "duration": 209,
    "start_time": "2024-06-08T07:20:01.628Z"
   },
   {
    "duration": 3,
    "start_time": "2024-06-08T07:20:01.839Z"
   },
   {
    "duration": 4716,
    "start_time": "2024-06-08T07:20:01.844Z"
   },
   {
    "duration": 4,
    "start_time": "2024-06-08T07:20:06.562Z"
   },
   {
    "duration": 16,
    "start_time": "2024-06-08T07:20:06.567Z"
   },
   {
    "duration": 1218293,
    "start_time": "2024-06-08T07:20:06.585Z"
   },
   {
    "duration": 8,
    "start_time": "2024-06-08T07:40:24.880Z"
   },
   {
    "duration": 56,
    "start_time": "2024-06-08T07:40:24.892Z"
   },
   {
    "duration": 4,
    "start_time": "2024-06-08T07:40:24.949Z"
   },
   {
    "duration": 6,
    "start_time": "2024-06-08T07:40:24.955Z"
   },
   {
    "duration": 29,
    "start_time": "2024-06-08T07:40:24.963Z"
   },
   {
    "duration": 75,
    "start_time": "2024-06-08T07:40:24.994Z"
   },
   {
    "duration": 161,
    "start_time": "2024-06-08T07:40:25.070Z"
   },
   {
    "duration": 0,
    "start_time": "2024-06-08T07:40:25.233Z"
   },
   {
    "duration": 0,
    "start_time": "2024-06-08T07:40:25.234Z"
   },
   {
    "duration": 0,
    "start_time": "2024-06-08T07:40:25.235Z"
   },
   {
    "duration": 0,
    "start_time": "2024-06-08T07:40:25.236Z"
   },
   {
    "duration": 0,
    "start_time": "2024-06-08T07:40:25.237Z"
   },
   {
    "duration": 0,
    "start_time": "2024-06-08T07:40:25.238Z"
   },
   {
    "duration": 20,
    "start_time": "2024-06-08T07:54:04.874Z"
   },
   {
    "duration": 19,
    "start_time": "2024-06-08T07:56:28.411Z"
   },
   {
    "duration": 18,
    "start_time": "2024-06-08T07:59:20.323Z"
   },
   {
    "duration": 5,
    "start_time": "2024-06-08T08:07:56.324Z"
   },
   {
    "duration": 10,
    "start_time": "2024-06-08T08:08:16.188Z"
   },
   {
    "duration": 4,
    "start_time": "2024-06-08T08:08:54.598Z"
   },
   {
    "duration": 19,
    "start_time": "2024-06-08T08:09:18.833Z"
   },
   {
    "duration": 57,
    "start_time": "2024-06-08T08:10:34.990Z"
   },
   {
    "duration": 60,
    "start_time": "2024-06-08T08:11:01.452Z"
   },
   {
    "duration": 5,
    "start_time": "2024-06-08T08:11:25.062Z"
   },
   {
    "duration": 61,
    "start_time": "2024-06-08T08:11:31.070Z"
   },
   {
    "duration": 53,
    "start_time": "2024-06-08T08:12:10.603Z"
   },
   {
    "duration": 55,
    "start_time": "2024-06-08T08:29:16.714Z"
   },
   {
    "duration": 47,
    "start_time": "2024-06-08T08:29:24.259Z"
   },
   {
    "duration": 7,
    "start_time": "2024-06-08T08:31:04.463Z"
   },
   {
    "duration": 3,
    "start_time": "2024-06-08T08:31:18.702Z"
   },
   {
    "duration": 2503,
    "start_time": "2024-06-08T08:31:21.491Z"
   },
   {
    "duration": 2889,
    "start_time": "2024-06-08T08:31:30.907Z"
   },
   {
    "duration": 5158,
    "start_time": "2024-06-08T08:31:57.301Z"
   },
   {
    "duration": 37,
    "start_time": "2024-06-08T08:33:15.699Z"
   },
   {
    "duration": 4,
    "start_time": "2024-06-08T08:33:17.684Z"
   },
   {
    "duration": 4,
    "start_time": "2024-06-08T08:33:17.904Z"
   },
   {
    "duration": 27,
    "start_time": "2024-06-08T08:33:25.674Z"
   },
   {
    "duration": 7276,
    "start_time": "2024-06-08T08:33:27.442Z"
   },
   {
    "duration": 14273,
    "start_time": "2024-06-08T08:33:39.344Z"
   },
   {
    "duration": 13653,
    "start_time": "2024-06-08T08:34:10.107Z"
   },
   {
    "duration": 346330,
    "start_time": "2024-06-08T08:34:38.620Z"
   },
   {
    "duration": 53,
    "start_time": "2024-06-08T08:40:24.952Z"
   },
   {
    "duration": 0,
    "start_time": "2024-06-08T08:40:25.007Z"
   },
   {
    "duration": 16,
    "start_time": "2024-06-08T08:41:06.547Z"
   },
   {
    "duration": 16,
    "start_time": "2024-06-08T08:41:11.979Z"
   },
   {
    "duration": 14486,
    "start_time": "2024-06-08T08:41:55.628Z"
   },
   {
    "duration": 580268,
    "start_time": "2024-06-08T08:42:35.921Z"
   },
   {
    "duration": 6,
    "start_time": "2024-06-08T08:52:51.562Z"
   },
   {
    "duration": 14424,
    "start_time": "2024-06-08T08:52:54.392Z"
   },
   {
    "duration": 4834,
    "start_time": "2024-06-08T09:41:17.164Z"
   },
   {
    "duration": 4661,
    "start_time": "2024-06-08T09:41:22.001Z"
   },
   {
    "duration": 33,
    "start_time": "2024-06-08T09:41:26.663Z"
   },
   {
    "duration": 79,
    "start_time": "2024-06-08T09:41:26.697Z"
   },
   {
    "duration": 806,
    "start_time": "2024-06-08T09:41:26.778Z"
   },
   {
    "duration": 7,
    "start_time": "2024-06-08T09:41:27.586Z"
   },
   {
    "duration": 499,
    "start_time": "2024-06-08T09:41:27.595Z"
   },
   {
    "duration": 4,
    "start_time": "2024-06-08T09:41:28.096Z"
   },
   {
    "duration": 11910,
    "start_time": "2024-06-08T09:41:28.161Z"
   },
   {
    "duration": 4,
    "start_time": "2024-06-08T09:41:40.073Z"
   },
   {
    "duration": 30,
    "start_time": "2024-06-08T09:41:40.079Z"
   },
   {
    "duration": 7,
    "start_time": "2024-06-08T09:41:48.642Z"
   },
   {
    "duration": 11,
    "start_time": "2024-06-08T09:41:58.785Z"
   },
   {
    "duration": 76,
    "start_time": "2024-06-08T09:42:05.990Z"
   },
   {
    "duration": 26,
    "start_time": "2024-06-08T09:42:08.275Z"
   },
   {
    "duration": 602,
    "start_time": "2024-06-08T09:42:12.390Z"
   },
   {
    "duration": 18918,
    "start_time": "2024-06-08T09:42:36.462Z"
   },
   {
    "duration": 6423,
    "start_time": "2024-06-08T09:43:00.155Z"
   },
   {
    "duration": 423,
    "start_time": "2024-06-08T09:45:57.166Z"
   },
   {
    "duration": 6270,
    "start_time": "2024-06-08T09:46:22.663Z"
   },
   {
    "duration": 4932,
    "start_time": "2024-06-08T09:46:28.935Z"
   },
   {
    "duration": 92,
    "start_time": "2024-06-08T09:46:33.869Z"
   },
   {
    "duration": 27,
    "start_time": "2024-06-08T09:46:33.963Z"
   },
   {
    "duration": 497,
    "start_time": "2024-06-08T09:46:33.993Z"
   },
   {
    "duration": 7,
    "start_time": "2024-06-08T09:46:34.492Z"
   },
   {
    "duration": 784,
    "start_time": "2024-06-08T09:46:34.500Z"
   },
   {
    "duration": 3,
    "start_time": "2024-06-08T09:46:35.286Z"
   },
   {
    "duration": 11813,
    "start_time": "2024-06-08T09:46:35.291Z"
   },
   {
    "duration": 58,
    "start_time": "2024-06-08T09:46:47.106Z"
   },
   {
    "duration": 8,
    "start_time": "2024-06-08T09:46:47.166Z"
   },
   {
    "duration": 333,
    "start_time": "2024-06-08T09:46:54.463Z"
   },
   {
    "duration": 52,
    "start_time": "2024-06-08T09:46:57.249Z"
   },
   {
    "duration": 207,
    "start_time": "2024-06-08T09:46:58.763Z"
   },
   {
    "duration": 116,
    "start_time": "2024-06-08T09:47:00.862Z"
   },
   {
    "duration": 20023,
    "start_time": "2024-06-08T09:47:03.861Z"
   },
   {
    "duration": 60956,
    "start_time": "2024-06-08T09:47:28.948Z"
   },
   {
    "duration": 2033,
    "start_time": "2024-06-09T09:31:26.169Z"
   },
   {
    "duration": 3374,
    "start_time": "2024-06-09T09:31:32.286Z"
   },
   {
    "duration": 38,
    "start_time": "2024-06-09T09:31:35.881Z"
   },
   {
    "duration": 27,
    "start_time": "2024-06-09T09:31:36.689Z"
   },
   {
    "duration": 248,
    "start_time": "2024-06-09T09:31:37.049Z"
   },
   {
    "duration": 8,
    "start_time": "2024-06-09T09:31:40.305Z"
   },
   {
    "duration": 149,
    "start_time": "2024-06-09T09:31:40.500Z"
   },
   {
    "duration": 3,
    "start_time": "2024-06-09T09:31:41.537Z"
   },
   {
    "duration": 4699,
    "start_time": "2024-06-09T09:31:41.710Z"
   },
   {
    "duration": 3,
    "start_time": "2024-06-09T09:31:46.411Z"
   },
   {
    "duration": 7,
    "start_time": "2024-06-09T09:31:46.416Z"
   },
   {
    "duration": 437,
    "start_time": "2024-06-09T09:31:46.425Z"
   },
   {
    "duration": 0,
    "start_time": "2024-06-09T09:31:46.864Z"
   },
   {
    "duration": 1703,
    "start_time": "2024-06-09T09:42:14.693Z"
   },
   {
    "duration": 1008,
    "start_time": "2024-06-09T09:42:16.398Z"
   },
   {
    "duration": 33,
    "start_time": "2024-06-09T09:42:17.408Z"
   },
   {
    "duration": 28,
    "start_time": "2024-06-09T09:42:17.455Z"
   },
   {
    "duration": 265,
    "start_time": "2024-06-09T09:42:17.485Z"
   },
   {
    "duration": 8,
    "start_time": "2024-06-09T09:42:17.752Z"
   },
   {
    "duration": 145,
    "start_time": "2024-06-09T09:42:17.761Z"
   },
   {
    "duration": 3,
    "start_time": "2024-06-09T09:42:17.908Z"
   },
   {
    "duration": 4706,
    "start_time": "2024-06-09T09:42:17.913Z"
   },
   {
    "duration": 3,
    "start_time": "2024-06-09T09:42:22.621Z"
   },
   {
    "duration": 21,
    "start_time": "2024-06-09T09:42:22.626Z"
   },
   {
    "duration": 1228949,
    "start_time": "2024-06-09T09:42:22.648Z"
   },
   {
    "duration": 7,
    "start_time": "2024-06-09T10:02:51.599Z"
   },
   {
    "duration": 53,
    "start_time": "2024-06-09T10:02:51.609Z"
   },
   {
    "duration": 27,
    "start_time": "2024-06-09T10:02:51.663Z"
   },
   {
    "duration": 7206,
    "start_time": "2024-06-09T10:02:51.692Z"
   },
   {
    "duration": 14287,
    "start_time": "2024-06-09T10:02:58.899Z"
   },
   {
    "duration": 3,
    "start_time": "2024-06-09T10:03:13.187Z"
   },
   {
    "duration": 352249,
    "start_time": "2024-06-09T10:03:13.192Z"
   },
   {
    "duration": 0,
    "start_time": "2024-06-09T10:09:05.443Z"
   },
   {
    "duration": 0,
    "start_time": "2024-06-09T10:09:05.444Z"
   },
   {
    "duration": 0,
    "start_time": "2024-06-09T10:09:05.446Z"
   },
   {
    "duration": 0,
    "start_time": "2024-06-09T10:09:05.467Z"
   },
   {
    "duration": 20,
    "start_time": "2024-06-09T11:38:29.284Z"
   },
   {
    "duration": 12,
    "start_time": "2024-06-09T11:38:40.246Z"
   },
   {
    "duration": 1886,
    "start_time": "2024-06-09T11:44:25.556Z"
   },
   {
    "duration": 1086,
    "start_time": "2024-06-09T11:44:27.444Z"
   },
   {
    "duration": 34,
    "start_time": "2024-06-09T11:44:28.532Z"
   },
   {
    "duration": 29,
    "start_time": "2024-06-09T11:44:28.568Z"
   },
   {
    "duration": 275,
    "start_time": "2024-06-09T11:44:28.599Z"
   },
   {
    "duration": 8,
    "start_time": "2024-06-09T11:44:28.875Z"
   },
   {
    "duration": 150,
    "start_time": "2024-06-09T11:44:28.885Z"
   },
   {
    "duration": 3,
    "start_time": "2024-06-09T11:44:29.037Z"
   },
   {
    "duration": 4800,
    "start_time": "2024-06-09T11:44:29.042Z"
   },
   {
    "duration": 3,
    "start_time": "2024-06-09T11:44:33.845Z"
   },
   {
    "duration": 19,
    "start_time": "2024-06-09T11:44:33.854Z"
   },
   {
    "duration": 1257706,
    "start_time": "2024-06-09T11:44:33.875Z"
   },
   {
    "duration": 9,
    "start_time": "2024-06-09T12:05:31.583Z"
   },
   {
    "duration": 103,
    "start_time": "2024-06-09T12:05:31.594Z"
   },
   {
    "duration": 27,
    "start_time": "2024-06-09T12:05:31.699Z"
   },
   {
    "duration": 7335,
    "start_time": "2024-06-09T12:05:31.728Z"
   },
   {
    "duration": 66,
    "start_time": "2024-06-09T12:05:39.064Z"
   },
   {
    "duration": 0,
    "start_time": "2024-06-09T12:05:39.132Z"
   },
   {
    "duration": 0,
    "start_time": "2024-06-09T12:05:39.134Z"
   },
   {
    "duration": 0,
    "start_time": "2024-06-09T12:05:39.135Z"
   },
   {
    "duration": 0,
    "start_time": "2024-06-09T12:05:39.136Z"
   },
   {
    "duration": 0,
    "start_time": "2024-06-09T12:05:39.137Z"
   },
   {
    "duration": 66,
    "start_time": "2024-06-09T12:13:00.095Z"
   },
   {
    "duration": 51,
    "start_time": "2024-06-09T12:13:16.788Z"
   },
   {
    "duration": 52,
    "start_time": "2024-06-09T12:13:20.501Z"
   },
   {
    "duration": 143,
    "start_time": "2024-06-09T12:13:43.456Z"
   },
   {
    "duration": 12,
    "start_time": "2024-06-09T12:13:52.495Z"
   },
   {
    "duration": 12,
    "start_time": "2024-06-09T12:13:59.190Z"
   },
   {
    "duration": 13,
    "start_time": "2024-06-09T12:14:13.469Z"
   },
   {
    "duration": 313,
    "start_time": "2024-06-09T12:14:33.603Z"
   },
   {
    "duration": 40523,
    "start_time": "2024-06-09T12:14:39.314Z"
   },
   {
    "duration": 191878,
    "start_time": "2024-06-09T12:17:14.711Z"
   },
   {
    "duration": 189963,
    "start_time": "2024-06-09T12:21:27.324Z"
   },
   {
    "duration": 2154,
    "start_time": "2024-06-09T12:29:00.317Z"
   },
   {
    "duration": 1307,
    "start_time": "2024-06-09T12:29:28.877Z"
   },
   {
    "duration": 14742,
    "start_time": "2024-06-09T12:29:39.924Z"
   },
   {
    "duration": 14339,
    "start_time": "2024-06-09T12:30:04.644Z"
   },
   {
    "duration": 1353,
    "start_time": "2024-06-09T12:30:26.677Z"
   },
   {
    "duration": 6787,
    "start_time": "2024-06-09T12:30:38.769Z"
   },
   {
    "duration": 26260,
    "start_time": "2024-06-09T12:31:03.317Z"
   },
   {
    "duration": 7247,
    "start_time": "2024-06-09T12:31:31.737Z"
   },
   {
    "duration": 25896,
    "start_time": "2024-06-09T12:32:02.588Z"
   },
   {
    "duration": 25795,
    "start_time": "2024-06-09T12:35:08.285Z"
   },
   {
    "duration": 79,
    "start_time": "2024-06-09T13:54:08.485Z"
   },
   {
    "duration": 20,
    "start_time": "2024-06-09T13:54:15.573Z"
   },
   {
    "duration": 12,
    "start_time": "2024-06-09T13:54:29.006Z"
   },
   {
    "duration": 15,
    "start_time": "2024-06-09T14:03:29.962Z"
   },
   {
    "duration": 11,
    "start_time": "2024-06-09T14:04:04.079Z"
   },
   {
    "duration": 14,
    "start_time": "2024-06-09T14:04:22.909Z"
   },
   {
    "duration": 13,
    "start_time": "2024-06-09T14:05:41.382Z"
   },
   {
    "duration": 17,
    "start_time": "2024-06-09T14:05:47.819Z"
   },
   {
    "duration": 12,
    "start_time": "2024-06-09T14:08:18.856Z"
   },
   {
    "duration": 13,
    "start_time": "2024-06-09T14:09:12.239Z"
   },
   {
    "duration": 10325,
    "start_time": "2024-06-09T14:13:59.091Z"
   },
   {
    "duration": 12,
    "start_time": "2024-06-09T14:15:28.913Z"
   },
   {
    "duration": 56568,
    "start_time": "2024-06-09T14:15:49.418Z"
   },
   {
    "duration": 55924,
    "start_time": "2024-06-09T14:19:23.278Z"
   },
   {
    "duration": 57140,
    "start_time": "2024-06-09T14:21:29.859Z"
   },
   {
    "duration": 58047,
    "start_time": "2024-06-09T14:22:28.742Z"
   },
   {
    "duration": 1146396,
    "start_time": "2024-06-09T14:23:57.701Z"
   },
   {
    "duration": 0,
    "start_time": "2024-06-09T14:43:04.099Z"
   },
   {
    "duration": 56563,
    "start_time": "2024-06-09T14:44:16.027Z"
   },
   {
    "duration": 12,
    "start_time": "2024-06-09T14:49:26.229Z"
   },
   {
    "duration": 1157516,
    "start_time": "2024-06-09T14:49:39.769Z"
   },
   {
    "duration": 61,
    "start_time": "2024-06-09T15:10:11.482Z"
   },
   {
    "duration": 79249,
    "start_time": "2024-06-09T15:10:28.845Z"
   },
   {
    "duration": 8262,
    "start_time": "2024-06-09T15:12:39.715Z"
   },
   {
    "duration": 57406,
    "start_time": "2024-06-09T15:13:30.981Z"
   }
  ],
  "kernelspec": {
   "display_name": "Python 3 (ipykernel)",
   "language": "python",
   "name": "python3"
  },
  "language_info": {
   "codemirror_mode": {
    "name": "ipython",
    "version": 3
   },
   "file_extension": ".py",
   "mimetype": "text/x-python",
   "name": "python",
   "nbconvert_exporter": "python",
   "pygments_lexer": "ipython3",
   "version": "3.9.5"
  },
  "toc": {
   "base_numbering": 1,
   "nav_menu": {},
   "number_sections": true,
   "sideBar": true,
   "skip_h1_title": true,
   "title_cell": "Содержание",
   "title_sidebar": "Contents",
   "toc_cell": true,
   "toc_position": {
    "height": "calc(100% - 180px)",
    "left": "10px",
    "top": "150px",
    "width": "302.391px"
   },
   "toc_section_display": true,
   "toc_window_display": false
  }
 },
 "nbformat": 4,
 "nbformat_minor": 2
}
